{
  "nbformat": 4,
  "nbformat_minor": 0,
  "metadata": {
    "colab": {
      "provenance": [],
      "authorship_tag": "ABX9TyNz9zfwSbb+MOSQol7FAqXV",
      "include_colab_link": true
    },
    "kernelspec": {
      "name": "python3",
      "display_name": "Python 3"
    },
    "language_info": {
      "name": "python"
    }
  },
  "cells": [
    {
      "cell_type": "markdown",
      "metadata": {
        "id": "view-in-github",
        "colab_type": "text"
      },
      "source": [
        "<a href=\"https://colab.research.google.com/github/Praneeth-Prayaga32/pythontraininglogicworks/blob/main/Logicworks_phase_2_03_07_2023.ipynb\" target=\"_parent\"><img src=\"https://colab.research.google.com/assets/colab-badge.svg\" alt=\"Open In Colab\"/></a>"
      ]
    },
    {
      "cell_type": "code",
      "execution_count": null,
      "metadata": {
        "colab": {
          "base_uri": "https://localhost:8080/"
        },
        "id": "-uyChbr19Up4",
        "outputId": "e9d0756b-d5cc-4b17-ad32-1ac78ac98ac2"
      },
      "outputs": [
        {
          "output_type": "stream",
          "name": "stdout",
          "text": [
            "i\n",
            "s\n",
            "lokesh it\n",
            "lks t\n",
            "\n",
            "kesh it\n",
            "lokesh\n",
            "lokesh\n",
            "lks \n",
            "ti hsekol\n",
            "lks t\n",
            "l \n",
            "kesh \n",
            "esh\n",
            "h it\n",
            "lokesh \n"
          ]
        }
      ],
      "source": [
        "s=\"lokesh it\"\n",
        "print(s[-2])\n",
        "print(s[-5])\n",
        "print(s[::1])\n",
        "print(s[::2])\n",
        "print(s[-2:-5])\n",
        "print(s[2:])\n",
        "print(s[:6])\n",
        "print(s[:6])\n",
        "print(s[-9:-1:2])\n",
        "print(s[::-1])\n",
        "print(s[::1][::2])#common characters in both expressions are printed\n",
        "print(s[::1][::2][::3])\n",
        "print(s[2:-2])#converts -2 into positive substitute(7)\n",
        "print(s[3:-3])\n",
        "print(s[-4:])\n",
        "print(s[:-2])"
      ]
    },
    {
      "cell_type": "code",
      "source": [
        "l=[1,2,3,4,5]\n",
        "l1=[]\n",
        "i=0\n",
        "while(i<len(l)):\n",
        "  l1.append(l.pop())\n",
        "print(l1)"
      ],
      "metadata": {
        "colab": {
          "base_uri": "https://localhost:8080/"
        },
        "id": "QUrJ7PkOCIId",
        "outputId": "b830efdd-1d05-4308-8907-662eaea88084"
      },
      "execution_count": null,
      "outputs": [
        {
          "output_type": "stream",
          "name": "stdout",
          "text": [
            "[5, 4, 3, 2, 1]\n"
          ]
        }
      ]
    },
    {
      "cell_type": "code",
      "source": [
        "#Without list functions\n",
        "l=[1,2,3,4,5,6,7,8,9,10]\n",
        "l1=[]\n",
        "i=0\n",
        "while(i<(len(l)//2)):\n",
        "  temp = l[i]\n",
        "  l[i] = l[len(l)-(i+1)]\n",
        "  l[len(l)-(i+1)]=temp\n",
        "  i=i+1\n",
        "print(l)\n"
      ],
      "metadata": {
        "colab": {
          "base_uri": "https://localhost:8080/"
        },
        "id": "mEJDKfBiF0_l",
        "outputId": "0eb0f411-5fd5-4ca9-e894-f8fb89feaf5e"
      },
      "execution_count": null,
      "outputs": [
        {
          "output_type": "stream",
          "name": "stdout",
          "text": [
            "[10, 9, 8, 7, 6, 5, 4, 3, 2, 1]\n"
          ]
        }
      ]
    },
    {
      "cell_type": "code",
      "source": [
        "s=[3,1,2,\"krishna\",\"anil\",\"sravya\",5,7,4,\"bharath\",\"ramu\",\"cat\",12,9]\n",
        "ls=[]\n",
        "li=[]\n",
        "for i in s:\n",
        "  if type(i) is str:\n",
        "    ls.append(i)\n",
        "  elif type(i) is int:\n",
        "    li.append(i)\n",
        "ls.sort()\n",
        "li.sort()\n",
        "print(ls)\n",
        "print(li)\n",
        "print(li+ls)"
      ],
      "metadata": {
        "colab": {
          "base_uri": "https://localhost:8080/"
        },
        "id": "aR_zxVUzHh2U",
        "outputId": "471373a1-8829-4af4-82ff-e6a9fc13be68"
      },
      "execution_count": null,
      "outputs": [
        {
          "output_type": "stream",
          "name": "stdout",
          "text": [
            "['anil', 'bharath', 'cat', 'krishna', 'ramu', 'sravya']\n",
            "[1, 2, 3, 4, 5, 7, 9, 12]\n",
            "[1, 2, 3, 4, 5, 7, 9, 12, 'anil', 'bharath', 'cat', 'krishna', 'ramu', 'sravya']\n"
          ]
        }
      ]
    },
    {
      "cell_type": "code",
      "source": [
        "N = int(input())\n",
        "l1=[]\n",
        "l=[]\n",
        "li=[]\n",
        "for i in range(N):\n",
        "      cmd=input()\n",
        "      l1=cmd.split()\n",
        "      l.append(l1)\n",
        "for i in range(len(l)):\n",
        "      if(l[i][0]=='insert'):\n",
        "          li.insert(int(l[i][2]),int(l[i][1]))\n",
        "      elif(l[i][0]=='print'):\n",
        "          print(li)\n",
        "      elif(l[i][0]=='remove'):\n",
        "          li.remove(int(l[i][1]))\n",
        "      elif(l[i][0]=='append'):\n",
        "          li.append(int(l[i][1]))\n",
        "      elif(l[i][0]=='sort'):\n",
        "          li.sort()\n",
        "      elif(l[i][0]=='pop'):\n",
        "          li.pop()\n",
        "      elif(l[i][0]=='reverse'):\n",
        "          li.reverse()"
      ],
      "metadata": {
        "colab": {
          "base_uri": "https://localhost:8080/"
        },
        "id": "GQoGH16VO2it",
        "outputId": "211d52f2-3429-4304-e489-0ef9839d62f2"
      },
      "execution_count": null,
      "outputs": [
        {
          "output_type": "stream",
          "name": "stdout",
          "text": [
            "4\n",
            "append 1\n",
            "append 2\n",
            "insert 3 1\n",
            "print\n",
            "[1, 3, 2]\n"
          ]
        }
      ]
    },
    {
      "cell_type": "code",
      "source": [
        "import math\n",
        "print (math.factorial(5))"
      ],
      "metadata": {
        "colab": {
          "base_uri": "https://localhost:8080/"
        },
        "id": "RgptsmbgTT5M",
        "outputId": "47f26f9b-8825-40dc-a83b-d0c43ad7d505"
      },
      "execution_count": null,
      "outputs": [
        {
          "output_type": "stream",
          "name": "stdout",
          "text": [
            "120\n"
          ]
        }
      ]
    },
    {
      "cell_type": "code",
      "source": [
        "s=[10,12,2,5,20,15,20,11,2,8]\n",
        "s.sort()\n",
        "print(s)\n",
        "r=max(s)\n",
        "d=s.count(r)\n",
        "print(\"second max: \",s[-(d+1)])\n",
        "r=min(s)\n",
        "d=s.count(r)\n",
        "print(\"second min: \",s[d])"
      ],
      "metadata": {
        "id": "nlbM5ja6bKQM",
        "colab": {
          "base_uri": "https://localhost:8080/"
        },
        "outputId": "880145bc-358e-4ca3-bbea-a568c0cd84ee"
      },
      "execution_count": null,
      "outputs": [
        {
          "output_type": "stream",
          "name": "stdout",
          "text": [
            "[2, 2, 5, 8, 10, 11, 12, 15, 20, 20]\n",
            "second max:  15\n",
            "second min:  5\n"
          ]
        }
      ]
    },
    {
      "cell_type": "code",
      "source": [
        "s=[10,12,2,5,20,15,20,11,2,8]\n",
        "s.sort()\n",
        "min=s[0]\n",
        "max=s[-1]\n",
        "i=1\n",
        "while(min==l[i]):\n",
        "  i+=1\n",
        "print(s[i])\n",
        "j=-1\n",
        "while(max==l[j]):\n",
        "  j-=1\n",
        "print(s[j])"
      ],
      "metadata": {
        "colab": {
          "base_uri": "https://localhost:8080/"
        },
        "id": "R5Z8rI59Eug9",
        "outputId": "b9fead80-6013-485b-aece-798e8124e6c0"
      },
      "execution_count": null,
      "outputs": [
        {
          "output_type": "stream",
          "name": "stdout",
          "text": [
            "5\n",
            "15\n"
          ]
        }
      ]
    },
    {
      "cell_type": "code",
      "source": [
        "s=[10,5,20,3,20,30,20,2,1]\n",
        "d=int(input(\"Enter element to delete: \"))\n",
        "l=s.count(d)\n",
        "for i in range(l):\n",
        "  s.remove(d)\n",
        "print(s)"
      ],
      "metadata": {
        "colab": {
          "base_uri": "https://localhost:8080/"
        },
        "id": "SbPUyI3HIMLL",
        "outputId": "1a0a93a7-2e1e-4c30-a226-0d2d736f7b24"
      },
      "execution_count": null,
      "outputs": [
        {
          "output_type": "stream",
          "name": "stdout",
          "text": [
            "Enter element to delete: 1\n",
            "[10, 5, 20, 3, 20, 30, 20, 2]\n"
          ]
        }
      ]
    },
    {
      "cell_type": "code",
      "source": [
        "s=[1,2,3,3,2,1,4,45,56]\n",
        "ul=[]\n",
        "for p in s:\n",
        "  if p not in ul:\n",
        "    ul.append(p)\n",
        "  else:\n",
        "    print(p)"
      ],
      "metadata": {
        "colab": {
          "base_uri": "https://localhost:8080/"
        },
        "id": "SfKgS38bJq4g",
        "outputId": "a9151fb8-95f8-486a-c213-efaadbc3cabc"
      },
      "execution_count": null,
      "outputs": [
        {
          "output_type": "stream",
          "name": "stdout",
          "text": [
            "3\n",
            "2\n",
            "1\n"
          ]
        }
      ]
    },
    {
      "cell_type": "code",
      "source": [
        "print(list(ele for ele in range (21) if ele%2==0))"
      ],
      "metadata": {
        "colab": {
          "base_uri": "https://localhost:8080/"
        },
        "id": "GZ_GpLLrMSxK",
        "outputId": "1bfd44c4-8e25-435e-c443-31fc06dd6f60"
      },
      "execution_count": null,
      "outputs": [
        {
          "output_type": "stream",
          "name": "stdout",
          "text": [
            "[0, 2, 4, 6, 8, 10, 12, 14, 16, 18, 20]\n"
          ]
        }
      ]
    },
    {
      "cell_type": "code",
      "source": [
        "print(list(ele for ele in range (0,21,2)))"
      ],
      "metadata": {
        "colab": {
          "base_uri": "https://localhost:8080/"
        },
        "id": "1NuFgtl1OfxK",
        "outputId": "f98402f9-f3c6-4673-fec5-ea47db82be8e"
      },
      "execution_count": null,
      "outputs": [
        {
          "output_type": "stream",
          "name": "stdout",
          "text": [
            "[0, 2, 4, 6, 8, 10, 12, 14, 16, 18, 20]\n"
          ]
        }
      ]
    },
    {
      "cell_type": "code",
      "source": [
        "print(list(ele*ele for ele in range(30,50) if ele%2!=0))"
      ],
      "metadata": {
        "colab": {
          "base_uri": "https://localhost:8080/"
        },
        "id": "_JDUn25zPd3b",
        "outputId": "c2c2512b-3a7f-48c6-e468-a14a67362d8e"
      },
      "execution_count": null,
      "outputs": [
        {
          "output_type": "stream",
          "name": "stdout",
          "text": [
            "[961, 1089, 1225, 1369, 1521, 1681, 1849, 2025, 2209, 2401]\n"
          ]
        }
      ]
    },
    {
      "cell_type": "code",
      "source": [
        "a,b,c=map(int,input().split())\n",
        "print(\"a: \",a,\"b: \",b,\"c: \",c)"
      ],
      "metadata": {
        "colab": {
          "base_uri": "https://localhost:8080/"
        },
        "id": "RPzoh58bPzTp",
        "outputId": "afc277d5-b60e-4a4c-9f3e-301f4835b92a"
      },
      "execution_count": null,
      "outputs": [
        {
          "output_type": "stream",
          "name": "stdout",
          "text": [
            "1 2 3\n",
            "a:  1 b:  2 c:  3\n"
          ]
        }
      ]
    },
    {
      "cell_type": "code",
      "source": [
        "li=[]\n",
        "l=input().split()\n",
        "for i in range(len(l)):\n",
        "  li.append(int(l[i]))\n",
        "print (li)"
      ],
      "metadata": {
        "colab": {
          "base_uri": "https://localhost:8080/"
        },
        "id": "ovzePlyPRJcK",
        "outputId": "c5303521-8bcb-44d4-e565-6ba88c77bf84"
      },
      "execution_count": null,
      "outputs": [
        {
          "output_type": "stream",
          "name": "stdout",
          "text": [
            "1 2 3 4 5 6\n",
            "[1, 2, 3, 4, 5, 6]\n"
          ]
        }
      ]
    },
    {
      "cell_type": "code",
      "source": [
        "s=[[0,0,0],[0,0,0],[0,0,0]]\n",
        "for p in range(len(s)):\n",
        "  for q in range(len(s[p])):\n",
        "      s[p][q]=int(input(\"Enter value: \"))\n",
        "print(s)"
      ],
      "metadata": {
        "colab": {
          "base_uri": "https://localhost:8080/"
        },
        "id": "OXdPkeorRl7K",
        "outputId": "34db85c5-a048-4430-8a8d-919015163125"
      },
      "execution_count": null,
      "outputs": [
        {
          "output_type": "stream",
          "name": "stdout",
          "text": [
            "Enter value: 1\n",
            "Enter value: 2\n",
            "Enter value: 3\n",
            "Enter value: 4\n",
            "Enter value: 5\n",
            "Enter value: 6\n",
            "Enter value: 7\n",
            "Enter value: 8\n",
            "Enter value: 9\n",
            "[[1, 2, 3], [4, 5, 6], [7, 8, 9]]\n"
          ]
        }
      ]
    },
    {
      "cell_type": "code",
      "source": [
        "print(s[2])\n",
        "print(s[-2])\n",
        "print(s[2][1])\n",
        "print(s[-2][-1])\n",
        "print(s[-2][-3])\n",
        "print(s[0][-3])"
      ],
      "metadata": {
        "colab": {
          "base_uri": "https://localhost:8080/"
        },
        "id": "_5F0_MohTP2i",
        "outputId": "28b42372-10c2-4c28-8764-dfb9f28c2fb5"
      },
      "execution_count": null,
      "outputs": [
        {
          "output_type": "stream",
          "name": "stdout",
          "text": [
            "[7, 8, 9]\n",
            "[4, 5, 6]\n",
            "8\n",
            "6\n",
            "4\n",
            "1\n"
          ]
        }
      ]
    },
    {
      "cell_type": "code",
      "source": [
        "s=[[1,2,3],[4,5,6],[7,8,9]]\n",
        "for p in range(len(s)):\n",
        "  sum=0\n",
        "  for q in range(len(s[p])):\n",
        "      sum=sum+s[p][q]\n",
        "  print(sum)"
      ],
      "metadata": {
        "colab": {
          "base_uri": "https://localhost:8080/"
        },
        "id": "_1I4UN1DVky6",
        "outputId": "84dd621c-661d-48c8-ba19-a7fa1af953fe"
      },
      "execution_count": null,
      "outputs": [
        {
          "output_type": "stream",
          "name": "stdout",
          "text": [
            "6\n",
            "15\n",
            "24\n"
          ]
        }
      ]
    },
    {
      "cell_type": "code",
      "source": [
        "s=[[1,2,3],[4,5,6],[7,8,9]]\n",
        "for p in range(len(s)):\n",
        "  sum=0\n",
        "  for q in range(len(s[p])):\n",
        "      sum=sum+s[q][p]\n",
        "  print(sum)"
      ],
      "metadata": {
        "colab": {
          "base_uri": "https://localhost:8080/"
        },
        "id": "cB2C2V64X94y",
        "outputId": "924b10b3-eeb4-4f8c-e9b5-f8bda2df2473"
      },
      "execution_count": null,
      "outputs": [
        {
          "output_type": "stream",
          "name": "stdout",
          "text": [
            "12\n",
            "15\n",
            "18\n"
          ]
        }
      ]
    },
    {
      "cell_type": "code",
      "source": [
        "s=[[0,0,0],[0,0,0],[0,0,0]]\n",
        "for p in range(len(s)):\n",
        "  for q in range(len(s[p])):\n",
        "      s[p][q]=int(input(\"Enter value: \"))\n",
        "print(s)\n",
        "s1=[[0,0,0],[0,0,0],[0,0,0]]\n",
        "for p in range(len(s1)):\n",
        "  for q in range(len(s[p])):\n",
        "      s1[p][q]=int(input(\"Enter value: \"))\n",
        "print(s1)\n",
        "sum=[[0,0,0],[0,0,0],[0,0,0]]\n",
        "for p in range(len(s1)):\n",
        "  for q in range(len(s[p])):\n",
        "      sum[p][q]=s[p][q]+s1[p][q]\n",
        "print(sum)"
      ],
      "metadata": {
        "colab": {
          "base_uri": "https://localhost:8080/"
        },
        "id": "2xIP1AJaYOnK",
        "outputId": "dae71f07-4599-4109-c85c-96cba97ac33a"
      },
      "execution_count": null,
      "outputs": [
        {
          "output_type": "stream",
          "name": "stdout",
          "text": [
            "Enter value: 1\n",
            "Enter value: 1\n",
            "Enter value: 1\n",
            "Enter value: 1\n",
            "Enter value: 1\n",
            "Enter value: 1\n",
            "Enter value: 1\n",
            "Enter value: 1\n",
            "Enter value: 1\n",
            "[[1, 1, 1], [1, 1, 1], [1, 1, 1]]\n",
            "Enter value: 2\n",
            "Enter value: 2\n",
            "Enter value: 2\n",
            "Enter value: 2\n",
            "Enter value: 2\n",
            "Enter value: 2\n",
            "Enter value: 2\n",
            "Enter value: 2\n",
            "Enter value: 2\n",
            "[[2, 2, 2], [2, 2, 2], [2, 2, 2]]\n",
            "[[3, 3, 3], [3, 3, 3], [3, 3, 3]]\n"
          ]
        }
      ]
    },
    {
      "cell_type": "code",
      "source": [
        "s=[[0,0,0],[0,0,0],[0,0,0]]\n",
        "for p in range(len(s)):\n",
        "  for q in range(len(s[p])):\n",
        "      s[p][q]=int(input(\"Enter value: \"))\n",
        "print(s)\n",
        "sum=[[0,0,0],[0,0,0],[0,0,0]]\n",
        "s1=[[0,0,0],[0,0,0],[0,0,0]]\n",
        "for p in range(len(s1)):\n",
        "  for q in range(len(s[p])):\n",
        "      s1[p][q]=int(input(\"Enter value: \"))\n",
        "      sum[p][q]=s[p][q]-s1[p][q]\n",
        "print(s1)\n",
        "print(sum)"
      ],
      "metadata": {
        "colab": {
          "base_uri": "https://localhost:8080/"
        },
        "id": "RrmbixOHfWrp",
        "outputId": "3660650c-8ae8-451c-e5ea-f9ba69d7316f"
      },
      "execution_count": null,
      "outputs": [
        {
          "output_type": "stream",
          "name": "stdout",
          "text": [
            "Enter value: 1\n",
            "Enter value: 1\n",
            "Enter value: 1\n",
            "Enter value: 1\n",
            "Enter value: 1\n",
            "Enter value: 1\n",
            "Enter value: 1\n",
            "Enter value: 1\n",
            "Enter value: 1\n",
            "[[1, 1, 1], [1, 1, 1], [1, 1, 1]]\n",
            "Enter value: 1\n",
            "Enter value: 2\n",
            "Enter value: 2\n",
            "Enter value: 2\n",
            "Enter value: 2\n",
            "Enter value: 2\n",
            "Enter value: 2\n",
            "Enter value: 2\n",
            "Enter value: 2\n",
            "[[1, 2, 2], [2, 2, 2], [2, 2, 2]]\n",
            "[[0, -1, -1], [-1, -1, -1], [-1, -1, -1]]\n"
          ]
        }
      ]
    },
    {
      "cell_type": "code",
      "source": [
        "sum=0\n",
        "s1=[[0,0,0],[0,0,0],[0,0,0]]\n",
        "for p in range(len(s1)):\n",
        "  for q in range(len(s[p])):\n",
        "      s1[p][q]=int(input(\"Enter value: \"))\n",
        "print(s1)\n",
        "for p in range(len(s1)):\n",
        "  for q in range(len(s[p])):\n",
        "    if(p==q):\n",
        "      sum=sum+s1[p][p]\n",
        "print(sum)"
      ],
      "metadata": {
        "colab": {
          "base_uri": "https://localhost:8080/"
        },
        "id": "Kj3T5z7Vf8IJ",
        "outputId": "f948ba78-beaa-4921-f9b9-be5cfed9ea39"
      },
      "execution_count": null,
      "outputs": [
        {
          "output_type": "stream",
          "name": "stdout",
          "text": [
            "Enter value: 1\n",
            "Enter value: 0\n",
            "Enter value: 0\n",
            "Enter value: 0\n",
            "Enter value: 1\n",
            "Enter value: 0\n",
            "Enter value: 0\n",
            "Enter value: 0\n",
            "Enter value: 1\n",
            "[[1, 0, 0], [0, 1, 0], [0, 0, 1]]\n",
            "3\n"
          ]
        }
      ]
    },
    {
      "cell_type": "code",
      "source": [
        "s=[[1,2],[3,4]]\n",
        "for i in range(len(s)):\n",
        "  for j in range(len(s[i])-1,-1,-1):\n",
        "    print(s[i][j],end=\" \")\n",
        "  print()"
      ],
      "metadata": {
        "colab": {
          "base_uri": "https://localhost:8080/"
        },
        "id": "RyAkSlNhhDYK",
        "outputId": "7b8fff93-72fc-456d-dca6-e359239b766d"
      },
      "execution_count": null,
      "outputs": [
        {
          "output_type": "stream",
          "name": "stdout",
          "text": [
            "2 1 \n",
            "4 3 \n"
          ]
        }
      ]
    },
    {
      "cell_type": "code",
      "source": [
        "#sparse matrix\n",
        "s=[[1,0,0],[0,3,4],[1,8,7]]\n",
        "n0=0\n",
        "rs=0\n",
        "cs=0\n",
        "for p in range(len(s)):\n",
        "  rs=rs+1\n",
        "  for q in range(len(s[p])):\n",
        "    cs=cs+1\n",
        "    if(s[p][q]==0):\n",
        "      n0=n0+1\n",
        "    else:\n",
        "      nn0=nn0+1\n",
        "cs=cs//rs\n",
        "print(rs,cs)\n",
        "sp=(rs*cs)//2\n",
        "if(n0>sp):\n",
        "  print(\"Sparse matrix \")\n",
        "else:\n",
        "  print(\"not sparse matrix\")\n",
        "  #to find row size: len(s), to find column size: len(s[0])"
      ],
      "metadata": {
        "colab": {
          "base_uri": "https://localhost:8080/"
        },
        "id": "pI0V7oxtjYrq",
        "outputId": "ed473299-1be6-4712-b578-2fd1b34eb052"
      },
      "execution_count": null,
      "outputs": [
        {
          "output_type": "stream",
          "name": "stdout",
          "text": [
            "3 3\n",
            "not sparse matrix\n"
          ]
        }
      ]
    },
    {
      "cell_type": "code",
      "source": [
        "s=[[1,0,0],[0,3,4],[1,8,7]]\n",
        "for i in range(len(s)):\n",
        "  for j in range(len(s[0])):\n",
        "    s[i][j]=s[j][i]\n",
        "print(s)"
      ],
      "metadata": {
        "colab": {
          "base_uri": "https://localhost:8080/"
        },
        "id": "8f3tooHNmSkq",
        "outputId": "aaf3897e-50e6-4b0d-fed8-30b333fb01af"
      },
      "execution_count": null,
      "outputs": [
        {
          "output_type": "stream",
          "name": "stdout",
          "text": [
            "[[1, 0, 1], [0, 3, 8], [1, 8, 7]]\n"
          ]
        }
      ]
    },
    {
      "cell_type": "code",
      "source": [
        "s={\"Krishna\":{\"C\":56,\"Python\":78,\"Java\":86},\n",
        "   \"Raju\":{\"C\":50,\"Python\":72,\"Java\":82},\n",
        "   \"Kishore\":{\"C\":51,\"Python\":73,\"Java\":81}}\n",
        "for p,q in s.items():\n",
        "  print(p)\n",
        "  print(\"----------\")\n",
        "  for a,b in q.items():\n",
        "    print(b)\n",
        "  print(\"\\n\")\n"
      ],
      "metadata": {
        "colab": {
          "base_uri": "https://localhost:8080/"
        },
        "id": "OcWsgsz6p3Uh",
        "outputId": "ff0ae320-2e11-433a-c354-305197b0243c"
      },
      "execution_count": null,
      "outputs": [
        {
          "output_type": "stream",
          "name": "stdout",
          "text": [
            "Krishna\n",
            "----------\n",
            "56\n",
            "78\n",
            "86\n",
            "\n",
            "\n",
            "Raju\n",
            "----------\n",
            "50\n",
            "72\n",
            "82\n",
            "\n",
            "\n",
            "Kishore\n",
            "----------\n",
            "51\n",
            "73\n",
            "81\n",
            "\n",
            "\n"
          ]
        }
      ]
    },
    {
      "cell_type": "code",
      "source": [
        "l=[\"krishna\",\"raju\",\"rani\",\"saritha\",\"srivalli\",\"sita\",\"ramya\"]\n",
        "d={p:len(p) for p in l if (len(p)%2!=0)}\n",
        "print(d)"
      ],
      "metadata": {
        "id": "eygoC5OqsODD",
        "colab": {
          "base_uri": "https://localhost:8080/"
        },
        "outputId": "4368e75f-6c43-42eb-d9d3-6f5243dc8121"
      },
      "execution_count": null,
      "outputs": [
        {
          "output_type": "stream",
          "name": "stdout",
          "text": [
            "{'krishna': 7, 'saritha': 7, 'ramya': 5}\n"
          ]
        }
      ]
    },
    {
      "cell_type": "code",
      "source": [
        "s={\"krishna\":35,\"Raju\":46,\"saritha\":58,\"shobana\":79}\n",
        "d={p:q for p,q in s.items() if(q%2==0)}\n",
        "print(d)"
      ],
      "metadata": {
        "colab": {
          "base_uri": "https://localhost:8080/"
        },
        "id": "hONdwsRmGS5J",
        "outputId": "73239bef-2588-48b3-9f7b-95eebb8b63ec"
      },
      "execution_count": null,
      "outputs": [
        {
          "output_type": "stream",
          "name": "stdout",
          "text": [
            "{'Raju': 46, 'saritha': 58}\n"
          ]
        }
      ]
    },
    {
      "cell_type": "code",
      "source": [
        "s={'a':10,'b':20}\n",
        "s.update({'c':30 , 'd':40})\n",
        "print(s)"
      ],
      "metadata": {
        "colab": {
          "base_uri": "https://localhost:8080/"
        },
        "id": "BDocICeeHNev",
        "outputId": "d4e1e0f8-c3b6-4463-c70b-afd9bd60e599"
      },
      "execution_count": null,
      "outputs": [
        {
          "output_type": "stream",
          "name": "stdout",
          "text": [
            "{'a': 10, 'b': 20, 'c': 30, 'd': 40}\n"
          ]
        }
      ]
    },
    {
      "cell_type": "code",
      "source": [
        "l1=['a','b','c','d']\n",
        "l2=[1,2,3,4]\n",
        "d=dict(zip(l1,l2))\n",
        "print(d)"
      ],
      "metadata": {
        "id": "K59TkhTlJKRv"
      },
      "execution_count": null,
      "outputs": []
    },
    {
      "cell_type": "code",
      "source": [
        "s=[\"Krishna\",\"raju\",\"Krishna\",\"saritha\",\"raju\",\"shobana\",\"manoj\"]\n",
        "f={}\n",
        "f={p:s.count(p) for p in s}\n",
        "print(f)"
      ],
      "metadata": {
        "colab": {
          "base_uri": "https://localhost:8080/"
        },
        "id": "5Xt06nQhLOSJ",
        "outputId": "d2cb003b-79b6-4d80-c677-69ffb7334ce2"
      },
      "execution_count": null,
      "outputs": [
        {
          "output_type": "stream",
          "name": "stdout",
          "text": [
            "{'Krishna': 2, 'raju': 2, 'saritha': 1, 'shobana': 1, 'manoj': 1}\n"
          ]
        }
      ]
    },
    {
      "cell_type": "code",
      "source": [
        "l=[]\n",
        "le=[]\n",
        "lo=[]\n",
        "s=int(input())\n",
        "for i in range(s):\n",
        "  l.append(int(input()))\n",
        "\n",
        "  if(l[i]%2==0):\n",
        "    le.append(l[i])\n",
        "  else:\n",
        "    lo.append(l[i])\n",
        "print(le)\n",
        "print(lo)"
      ],
      "metadata": {
        "colab": {
          "base_uri": "https://localhost:8080/"
        },
        "id": "kBrDniAjNJqY",
        "outputId": "29840656-140d-4cca-ceb2-e0936a303ad6"
      },
      "execution_count": null,
      "outputs": [
        {
          "output_type": "stream",
          "name": "stdout",
          "text": [
            "6\n",
            "1\n",
            "3\n",
            "2\n",
            "5\n",
            "7\n",
            "2\n",
            "[2, 2]\n",
            "[1, 3, 5, 7]\n"
          ]
        }
      ]
    },
    {
      "cell_type": "code",
      "source": [
        "s=lambda x:x%2==0\n",
        "l=[1,2,3,4,5]\n",
        "r=[p for p in l if s(p)]\n",
        "print(r)"
      ],
      "metadata": {
        "colab": {
          "base_uri": "https://localhost:8080/"
        },
        "id": "mstDXgPLO3dw",
        "outputId": "92df1535-f774-4181-9ae8-9c9eacef21a8"
      },
      "execution_count": null,
      "outputs": [
        {
          "output_type": "stream",
          "name": "stdout",
          "text": [
            "[2, 4]\n"
          ]
        }
      ]
    },
    {
      "cell_type": "code",
      "source": [
        "s=lambda x:x%2==0\n",
        "print(list(i for i in range(30,50) if s(i)))"
      ],
      "metadata": {
        "colab": {
          "base_uri": "https://localhost:8080/"
        },
        "id": "diR8k6BLVdUF",
        "outputId": "e0df2775-3df7-4018-c0e3-17f91c73a090"
      },
      "execution_count": null,
      "outputs": [
        {
          "output_type": "stream",
          "name": "stdout",
          "text": [
            "[30, 32, 34, 36, 38, 40, 42, 44, 46, 48]\n"
          ]
        }
      ]
    },
    {
      "cell_type": "code",
      "source": [
        "s=lambda x:x*x\n",
        "print(list(s(p) for p in range(1,10)))"
      ],
      "metadata": {
        "colab": {
          "base_uri": "https://localhost:8080/"
        },
        "id": "IffItSuOXfQw",
        "outputId": "54e065c0-9dca-48c5-8e87-1fd744fb9269"
      },
      "execution_count": null,
      "outputs": [
        {
          "output_type": "stream",
          "name": "stdout",
          "text": [
            "[1, 4, 9, 16, 25, 36, 49, 64, 81]\n"
          ]
        }
      ]
    },
    {
      "cell_type": "code",
      "source": [
        "def operations (a,b,s):\n",
        "  r=s(a,b)\n",
        "  return r\n",
        "a=operations(10,20,lambda a,b:a+b)\n",
        "b=operations(10,20,lambda a,b:a-b)\n",
        "c=operations(10,20,lambda a,b:a*b)\n",
        "d=operations(10,20,lambda a,b:a/b)\n",
        "print(a,b,c,d)"
      ],
      "metadata": {
        "colab": {
          "base_uri": "https://localhost:8080/"
        },
        "id": "QMf2N9kAYKSb",
        "outputId": "c7bdc999-8508-4bbf-d0e5-8e0c5560c230"
      },
      "execution_count": null,
      "outputs": [
        {
          "output_type": "stream",
          "name": "stdout",
          "text": [
            "30 -10 200 0.5\n"
          ]
        }
      ]
    },
    {
      "cell_type": "code",
      "source": [
        "#nested funtion:\n",
        "#a function within another function is called as nested function\n",
        "#in closures outer function can be used even outer function execution is completed also\n",
        "def power(p):\n",
        "  def pow(n):\n",
        "    return p**n\n",
        "  return pow\n",
        "s=power(5)\n",
        "r=s(3)\n",
        "print(r)\n",
        "print(s)\n",
        "d=power(6)\n",
        "r=d(2)\n",
        "print(r)"
      ],
      "metadata": {
        "colab": {
          "base_uri": "https://localhost:8080/"
        },
        "id": "3FgxTvzBcS40",
        "outputId": "e5e749e8-58b4-4e41-fb50-0967a6ee217e"
      },
      "execution_count": null,
      "outputs": [
        {
          "output_type": "stream",
          "name": "stdout",
          "text": [
            "125\n",
            "<function power.<locals>.pow at 0x7fc7b98d5a20>\n",
            "36\n"
          ]
        }
      ]
    },
    {
      "cell_type": "code",
      "source": [
        "from functools import reduce\n",
        "l=[1,2,3,4,5]\n",
        "sum=reduce(lambda a,b:a+b,l)\n",
        "print(sum)"
      ],
      "metadata": {
        "colab": {
          "base_uri": "https://localhost:8080/"
        },
        "id": "JjwUI4LMfpaE",
        "outputId": "76b63898-a3f1-458f-b42c-d0eb994d35bd"
      },
      "execution_count": null,
      "outputs": [
        {
          "output_type": "stream",
          "name": "stdout",
          "text": [
            "15\n"
          ]
        }
      ]
    },
    {
      "cell_type": "code",
      "source": [
        "from functools import reduce\n",
        "l=[2,4,3,5,1]\n",
        "max=reduce(lambda a,b:a if a>b else b,l)\n",
        "print(max)\n",
        "from functools import reduce\n",
        "l=[2,4,3,5,1]\n",
        "min=reduce(lambda a,b:a if a<b else b,l)\n",
        "print(min)"
      ],
      "metadata": {
        "colab": {
          "base_uri": "https://localhost:8080/"
        },
        "id": "Z1zjIzqxhi8E",
        "outputId": "99c98794-6e8d-4012-cafc-b0ecbfe7dddf"
      },
      "execution_count": null,
      "outputs": [
        {
          "output_type": "stream",
          "name": "stdout",
          "text": [
            "5\n",
            "1\n"
          ]
        }
      ]
    },
    {
      "cell_type": "code",
      "source": [
        "#5-07-2023\n",
        "a=[[1,1,1],[1,1,1],[1,1,1]]\n",
        "b=[[1,1,1],[1,1,1],[1,1,1]]\n",
        "c=[[0,0,0],[0,0,0],[0,0,0]]\n",
        "for i in range(len(a)):\n",
        "  for j in range(len(a[i])):\n",
        "    c[i][j]=a[i][j]"
      ],
      "metadata": {
        "colab": {
          "base_uri": "https://localhost:8080/"
        },
        "id": "gUDisCsNh_Uz",
        "outputId": "4bdec846-ebe8-46a8-c4be-7e5972d11a5b"
      },
      "execution_count": null,
      "outputs": [
        {
          "output_type": "stream",
          "name": "stdout",
          "text": [
            "1\n"
          ]
        }
      ]
    },
    {
      "cell_type": "code",
      "source": [
        "#Decorator is a special function\n",
        "#decorator function receives input as one function and returns another function as an output\n",
        "#a function returning another function usually applied as a function transformation using the @wrapper syntax\n",
        "#decorators are used to add new features to the existing function or extending the functionality of existing system without modifying it\n",
        "#decorators can be developed irrespective of the functionality\n",
        "def draw_line(d):\n",
        "  def new_display():\n",
        "    print(\"*\"*30)\n",
        "    d()\n",
        "    print(\"*\"*30)\n",
        "  return new_display\n",
        "@draw_line\n",
        "def display():\n",
        "  print(\"Python programming\")\n",
        "display()"
      ],
      "metadata": {
        "id": "SqVY6qHHiKh6",
        "colab": {
          "base_uri": "https://localhost:8080/",
          "height": 131
        },
        "outputId": "55e21182-7f78-42be-c1cb-6d5a92a904ab"
      },
      "execution_count": null,
      "outputs": [
        {
          "output_type": "error",
          "ename": "SyntaxError",
          "evalue": "ignored",
          "traceback": [
            "\u001b[0;36m  File \u001b[0;32m\"<ipython-input-7-62cd4692350c>\"\u001b[0;36m, line \u001b[0;32m23\u001b[0m\n\u001b[0;31m    \u001b[0m\n\u001b[0m    ^\u001b[0m\n\u001b[0;31mSyntaxError\u001b[0m\u001b[0;31m:\u001b[0m incomplete input\n"
          ]
        }
      ]
    },
    {
      "cell_type": "code",
      "source": [
        "def new_division(d):\n",
        "  def div(a,b):\n",
        "    if(b==0):\n",
        "      return 0\n",
        "    else:\n",
        "      return d(a,b)\n",
        "  return div\n",
        "@new_division\n",
        "def divisible(a,b):\n",
        "  c=a/b\n",
        "  return c\n",
        "s=divisible(10,0)\n",
        "print(s)"
      ],
      "metadata": {
        "colab": {
          "base_uri": "https://localhost:8080/"
        },
        "id": "IrcCcGU-QxOr",
        "outputId": "d7e347fe-0b5c-4d90-a4b8-5845ddaad391"
      },
      "execution_count": null,
      "outputs": [
        {
          "output_type": "stream",
          "name": "stdout",
          "text": [
            "0\n"
          ]
        }
      ]
    },
    {
      "cell_type": "code",
      "source": [
        "#filter and map function\n",
        "#filter is purely based on the condition but map is purely based on the expression\n",
        "def even_odd(n):\n",
        "  return (n%2==0)\n",
        "s=[10,12,15,32,17,21,45]\n",
        "r=list(filter(even_odd,s))\n",
        "print(r)\n",
        "rl=list(filter(lambda x:x%2==0,s))\n",
        "print(rl)"
      ],
      "metadata": {
        "colab": {
          "base_uri": "https://localhost:8080/"
        },
        "id": "LVRjymi3Rmml",
        "outputId": "fde87665-c8a6-4f80-a303-d3a375287e5f"
      },
      "execution_count": null,
      "outputs": [
        {
          "output_type": "stream",
          "name": "stdout",
          "text": [
            "[10, 12, 32]\n",
            "[10, 12, 32]\n"
          ]
        }
      ]
    },
    {
      "cell_type": "code",
      "source": [
        "s=[\"AAA\",\"aaa\",\"abc\",\"ABC\",\"xyz\",\"XYZ\"]\n",
        "r=list(filter(lambda x:x.isupper(),s))\n",
        "print(r)"
      ],
      "metadata": {
        "colab": {
          "base_uri": "https://localhost:8080/"
        },
        "id": "fyTUR7ceWQKB",
        "outputId": "e21b1fb8-3c2c-4661-eedf-d3a44a08708c"
      },
      "execution_count": null,
      "outputs": [
        {
          "output_type": "stream",
          "name": "stdout",
          "text": [
            "['AAA', 'ABC', 'XYZ']\n"
          ]
        }
      ]
    },
    {
      "cell_type": "code",
      "source": [
        "s=[1,-1,30,-30,45,-9]\n",
        "r=tuple(filter(lambda x:x<0,s))\n",
        "print(r)"
      ],
      "metadata": {
        "colab": {
          "base_uri": "https://localhost:8080/"
        },
        "id": "7p4z02PfXkg8",
        "outputId": "75354db6-4a0d-47e6-c759-a60c8925604b"
      },
      "execution_count": null,
      "outputs": [
        {
          "output_type": "stream",
          "name": "stdout",
          "text": [
            "(-1, -30, -9)\n"
          ]
        }
      ]
    },
    {
      "cell_type": "code",
      "source": [
        "s=[1,-1,30,-30,45,-9]\n",
        "r=tuple(map(lambda x:x*x,s))\n",
        "print(r)"
      ],
      "metadata": {
        "colab": {
          "base_uri": "https://localhost:8080/"
        },
        "id": "pQS_IruLYt9w",
        "outputId": "91feabce-ac20-498a-a74b-c1714e904ca2"
      },
      "execution_count": null,
      "outputs": [
        {
          "output_type": "stream",
          "name": "stdout",
          "text": [
            "(1, 1, 900, 900, 2025, 81)\n"
          ]
        }
      ]
    },
    {
      "cell_type": "code",
      "source": [
        "s=[1,2,3,4,5,6]\n",
        "def fact(n):\n",
        "  if n==1:\n",
        "    return 1\n",
        "  else:\n",
        "    return n*fact(n-1)\n",
        "import math\n",
        "r= list(map(fact,s))\n",
        "rl=list(map(math.factorial,s))\n",
        "print(r)\n",
        "print(rl)"
      ],
      "metadata": {
        "colab": {
          "base_uri": "https://localhost:8080/"
        },
        "id": "4wKhazoxaXo8",
        "outputId": "6433a688-232f-45a1-c3ae-55ad7fe0a626"
      },
      "execution_count": null,
      "outputs": [
        {
          "output_type": "stream",
          "name": "stdout",
          "text": [
            "[1, 2, 6, 24, 120, 720]\n",
            "[1, 2, 6, 24, 120, 720]\n"
          ]
        }
      ]
    },
    {
      "cell_type": "code",
      "source": [
        "s=\"APPLE\"\n",
        "for p in s:\n",
        "  x=ord(p)\n",
        "  r=chr(x+1)\n",
        "  print(r,end=\"\")"
      ],
      "metadata": {
        "colab": {
          "base_uri": "https://localhost:8080/"
        },
        "id": "x_PAA___a4H6",
        "outputId": "6c4c44d8-eb2d-48d5-9a31-19087de69d98"
      },
      "execution_count": null,
      "outputs": [
        {
          "output_type": "stream",
          "name": "stdout",
          "text": [
            "BQQMF"
          ]
        }
      ]
    },
    {
      "cell_type": "code",
      "source": [
        "#bit manipulations\n",
        "print(100 and 200)\n",
        "print(100>0 and 200)\n",
        "print(100 and 200 or 300)"
      ],
      "metadata": {
        "colab": {
          "base_uri": "https://localhost:8080/"
        },
        "id": "uXeHpheHcdrF",
        "outputId": "39517716-6dda-4d30-f082-0ff12d2d0f38"
      },
      "execution_count": null,
      "outputs": [
        {
          "output_type": "stream",
          "name": "stdout",
          "text": [
            "200\n",
            "200\n",
            "200\n"
          ]
        }
      ]
    },
    {
      "cell_type": "code",
      "source": [
        "#bitwise operators\n",
        "x=14\n",
        "y=12\n",
        "print (bin(x&y))\n",
        "print(x|y)\n",
        "x=9\n",
        "y=4\n",
        "print(x^y)"
      ],
      "metadata": {
        "colab": {
          "base_uri": "https://localhost:8080/"
        },
        "id": "vLA12zrLfFrm",
        "outputId": "18affe3b-94bb-4bde-de6a-766d116a4373"
      },
      "execution_count": null,
      "outputs": [
        {
          "output_type": "stream",
          "name": "stdout",
          "text": [
            "0b1100\n"
          ]
        },
        {
          "output_type": "execute_result",
          "data": {
            "text/plain": [
              "13"
            ]
          },
          "metadata": {},
          "execution_count": 70
        }
      ]
    },
    {
      "cell_type": "code",
      "source": [
        "x=int(input())\n",
        "y=int(input())\n",
        "x=x^y\n",
        "y=x^y\n",
        "x=x^y\n",
        "print(x,y)"
      ],
      "metadata": {
        "colab": {
          "base_uri": "https://localhost:8080/"
        },
        "id": "n090DxlKms4L",
        "outputId": "dd78a78b-5ece-44ee-b238-d3337f53da64"
      },
      "execution_count": null,
      "outputs": [
        {
          "output_type": "stream",
          "name": "stdout",
          "text": [
            "2\n",
            "3\n",
            "3 2\n"
          ]
        }
      ]
    },
    {
      "cell_type": "code",
      "source": [
        "x=int(input())\n",
        "y=str(bin(x))\n",
        "if (y.count('1')==1):\n",
        "  print(True)\n",
        "else:\n",
        "  print(False)"
      ],
      "metadata": {
        "colab": {
          "base_uri": "https://localhost:8080/"
        },
        "id": "68aD2WaOo9xD",
        "outputId": "fc06d38c-8c30-4f9b-de8a-f62c97c78d74"
      },
      "execution_count": null,
      "outputs": [
        {
          "output_type": "stream",
          "name": "stdout",
          "text": [
            "45\n",
            "False\n"
          ]
        }
      ]
    },
    {
      "cell_type": "code",
      "source": [
        "x=int(input())\n",
        "def ispower(x):\n",
        "  return x and not(x&(x-1))\n",
        "s=ispower(x)\n",
        "print(s)\n"
      ],
      "metadata": {
        "colab": {
          "base_uri": "https://localhost:8080/"
        },
        "id": "hjvDQBGtrFWT",
        "outputId": "30407562-df86-4afc-cae1-65536e18b3bb"
      },
      "execution_count": null,
      "outputs": [
        {
          "output_type": "stream",
          "name": "stdout",
          "text": [
            "4\n",
            "True\n"
          ]
        }
      ]
    },
    {
      "cell_type": "code",
      "source": [
        "x=int(input())\n",
        "def ispower(x):\n",
        "  if (x==0):\n",
        "    return False\n",
        "  else:\n",
        "    while(x!=1):\n",
        "      x=x/2\n",
        "      while(x%2!=0 and x!=1):\n",
        "        return False\n",
        "  return True\n",
        "s=ispower(x)\n",
        "print(s)"
      ],
      "metadata": {
        "colab": {
          "base_uri": "https://localhost:8080/"
        },
        "id": "H1Z1T6mFsCaj",
        "outputId": "14424c56-b02d-4a13-cace-7039d8c306f8"
      },
      "execution_count": null,
      "outputs": [
        {
          "output_type": "stream",
          "name": "stdout",
          "text": [
            "1\n",
            "True\n"
          ]
        }
      ]
    },
    {
      "cell_type": "code",
      "source": [
        "#left shift operator- in left shift operation, we have to add 0 in right most position then all values will move towards left side\n",
        "#after the left shift operation, value will become double\n",
        "#shortcut for answer verification- x*2^n, x=number , n= no.of shifts for 8<<3, 8*2^3\n",
        "x=int(input())\n",
        "def count1(x):\n",
        "  count=0\n",
        "  while(x):\n",
        "    x=x&(x-1)\n",
        "    count+=1\n",
        "  return count\n",
        "s=count1(x)\n",
        "print(s)"
      ],
      "metadata": {
        "colab": {
          "base_uri": "https://localhost:8080/"
        },
        "id": "7tUmeG8suZOW",
        "outputId": "493b2e80-a984-49d9-9d6b-f689748d967c"
      },
      "execution_count": null,
      "outputs": [
        {
          "output_type": "stream",
          "name": "stdout",
          "text": [
            "7\n",
            "3\n"
          ]
        }
      ]
    },
    {
      "cell_type": "code",
      "source": [
        "def check(n,i):\n",
        "  if(n&(1<<(i))):\n",
        "    return True\n",
        "  else:\n",
        "    return False\n",
        "n=int(input())\n",
        "i=int(input())\n",
        "s=check(n,i)\n",
        "print(s)"
      ],
      "metadata": {
        "id": "09EU_l99yX5R",
        "colab": {
          "base_uri": "https://localhost:8080/"
        },
        "outputId": "d94486f2-a259-494e-c734-fd4302c40fe9"
      },
      "execution_count": null,
      "outputs": [
        {
          "output_type": "stream",
          "name": "stdout",
          "text": [
            "14\n",
            "3\n",
            "True\n"
          ]
        }
      ]
    },
    {
      "cell_type": "code",
      "source": [
        "n=int(input())\n",
        "i=int(input())\n",
        "print((1<<i)|n)"
      ],
      "metadata": {
        "colab": {
          "base_uri": "https://localhost:8080/"
        },
        "id": "-96n6KhxKCJh",
        "outputId": "c1f834e2-f1d8-4c3f-e2d8-2ac8ef3a06b0"
      },
      "execution_count": null,
      "outputs": [
        {
          "output_type": "stream",
          "name": "stdout",
          "text": [
            "4\n",
            "0\n",
            "5\n"
          ]
        }
      ]
    },
    {
      "cell_type": "code",
      "source": [
        "n=int(input())\n",
        "i=int(input())\n",
        "n=n&(~(1<<i))\n",
        "print(n)"
      ],
      "metadata": {
        "colab": {
          "base_uri": "https://localhost:8080/"
        },
        "id": "HHEyEzlBSs24",
        "outputId": "bb176d8d-4551-4c93-c520-2abbc6a3f81c"
      },
      "execution_count": null,
      "outputs": [
        {
          "output_type": "stream",
          "name": "stdout",
          "text": [
            "15\n",
            "2\n",
            "11\n"
          ]
        }
      ]
    },
    {
      "cell_type": "code",
      "source": [
        "n=int(input())\n",
        "i=int(input())\n",
        "n=n^(1<<i)\n",
        "print(n)"
      ],
      "metadata": {
        "colab": {
          "base_uri": "https://localhost:8080/"
        },
        "id": "pw2ZtxfeVvTB",
        "outputId": "bda031ae-64cd-42d4-b5df-40044864b509"
      },
      "execution_count": null,
      "outputs": [
        {
          "output_type": "stream",
          "name": "stdout",
          "text": [
            "4\n",
            "2\n",
            "0\n"
          ]
        }
      ]
    },
    {
      "cell_type": "code",
      "source": [
        "n=int(input())\n",
        "print(~(-n))"
      ],
      "metadata": {
        "colab": {
          "base_uri": "https://localhost:8080/"
        },
        "id": "VQHAFH-NW3v2",
        "outputId": "974472f0-edff-4043-caf3-4a13bc5b672f"
      },
      "execution_count": null,
      "outputs": [
        {
          "output_type": "stream",
          "name": "stdout",
          "text": [
            "4\n",
            "3\n"
          ]
        }
      ]
    },
    {
      "cell_type": "code",
      "source": [
        "#finding one's complement of a number\n",
        "n=15\n",
        "a=~n\n",
        "print(a)"
      ],
      "metadata": {
        "colab": {
          "base_uri": "https://localhost:8080/"
        },
        "id": "cfllVrbdX_Ty",
        "outputId": "91ba16c9-ca0f-449d-ec60-8fbdd598fb82"
      },
      "execution_count": null,
      "outputs": [
        {
          "output_type": "stream",
          "name": "stdout",
          "text": [
            "-16\n"
          ]
        }
      ]
    },
    {
      "cell_type": "code",
      "source": [
        "#Object oriented programming\n",
        "#in procedure oriented programming we are missing the security for our data\n",
        "#we can achieve the security with the help of object oriented programming\n",
        "#object oriented concepts are class, object, encapsulation, inheritance, abstraction,polymorphism and interfaces\n",
        "# class- class is a container which contains the data and related operations in a single entity\n",
        "#class is a collection of data and related operations\n",
        "#data can be represented through variables\n",
        "#operations can be represented through methods\n",
        "#within a class we can define 3 types of variables - 1. non static variable,2. static variable ,3. local variable\n",
        "#we can define 3 types of methods within a class,1. static method, 2. non-static method, 3.class method\"\n",
        "#object- object is instance of class\n",
        "#by creating object memory will be alloted for the data members of a class.\n",
        "#static variable- we can declare static variable within a class and outside of all methods\n",
        "#we can access the static variable within a class using the class name and outside of a class also using a class name\n",
        "#if the data is common to all objects, we can declare that variable as static variable"
      ],
      "metadata": {
        "id": "Hc1PS4bFax0f"
      },
      "execution_count": null,
      "outputs": []
    },
    {
      "cell_type": "code",
      "source": [
        "class test:\n",
        "  a=1000\n",
        "  b=2000\n",
        "  def display(self):\n",
        "    print(test.a,test.b)\n",
        "  def update(self):\n",
        "    test.a=test.a+100\n",
        "    test.b=test.b+200\n",
        "t1=test()\n",
        "print(t1.a,t1.b)\n",
        "t1.a=t1.a+10\n",
        "t1.b=t1.b+20\n",
        "print(t1.a,t1.b)\n",
        "t1.display()\n",
        "t1.update()\n",
        "t1.display()\n",
        "print(test.a,test.b)"
      ],
      "metadata": {
        "colab": {
          "base_uri": "https://localhost:8080/"
        },
        "id": "5nTgORKwnT3q",
        "outputId": "5da71697-275c-4a23-ad8b-c428a8657da4"
      },
      "execution_count": null,
      "outputs": [
        {
          "output_type": "stream",
          "name": "stdout",
          "text": [
            "1000 2000\n",
            "1010 2020\n",
            "1000 2000\n",
            "1100 2200\n",
            "1100 2200\n"
          ]
        }
      ]
    },
    {
      "cell_type": "code",
      "source": [
        "#static variable\n",
        "class test:\n",
        "  a=1000\n",
        "  b=2000\n",
        "  def display(self):\n",
        "    print(test.a,test.b)\n",
        "  def update(self):\n",
        "    test.a=test.a+100\n",
        "    test.b=test.b+200\n",
        "t1=test()\n",
        "print(t1.a,t1.b)\n",
        "test.a=test.a+10\n",
        "test.b=test.b+20\n",
        "print(t1.a,t1.b)\n",
        "t1.display()\n",
        "t1.update()\n",
        "t1.display()\n",
        "print(test.a,test.b)"
      ],
      "metadata": {
        "colab": {
          "base_uri": "https://localhost:8080/"
        },
        "id": "dcp534KUo0I_",
        "outputId": "e348ff27-f4a2-49c7-9df8-dc594dd98a75"
      },
      "execution_count": null,
      "outputs": [
        {
          "output_type": "stream",
          "name": "stdout",
          "text": [
            "1000 2000\n",
            "1010 2020\n",
            "1010 2020\n",
            "1110 2220\n",
            "1110 2220\n"
          ]
        }
      ]
    },
    {
      "cell_type": "code",
      "source": [
        "#non static variables are declared within a class and within a method\n",
        "#we can access a non static variables within a class by using self keyword\n",
        "#we can access a non static variable outside a class by using reference variable name or object name\n",
        "#for non static variables, memory is alloted when object is created"
      ],
      "metadata": {
        "id": "sOT5YXdNrPv9"
      },
      "execution_count": null,
      "outputs": []
    },
    {
      "cell_type": "code",
      "source": [
        "#non static variable\n",
        "class test:\n",
        "  def insert(self):\n",
        "    self.a=100\n",
        "    self.b=200\n",
        "  def display(self):\n",
        "    print(self.a,self.b)\n",
        "  def update(self):\n",
        "    self.a=self.a+10\n",
        "    self.b=self.b+20\n",
        "t1=test()\n",
        "t1.insert()\n",
        "print(t1.a,t1.b)\n",
        "t1.display()\n",
        "t1.update()\n",
        "print(t1.a,t1.b)"
      ],
      "metadata": {
        "colab": {
          "base_uri": "https://localhost:8080/"
        },
        "id": "9IpsOMmrspN7",
        "outputId": "adcfc514-9fd1-4aaa-9ca6-fbe68e957eeb"
      },
      "execution_count": null,
      "outputs": [
        {
          "output_type": "stream",
          "name": "stdout",
          "text": [
            "100 200\n",
            "100 200\n",
            "110 220\n"
          ]
        }
      ]
    },
    {
      "cell_type": "code",
      "source": [
        "#constructor- it is a special type of method and the method does not have any name\n",
        "#in python programming, we can define a constructor with the help of __init__\n",
        "#we have 2 types of costructors- default constructor, parameterized constructor"
      ],
      "metadata": {
        "id": "PjM9cVd9tRq6"
      },
      "execution_count": null,
      "outputs": []
    },
    {
      "cell_type": "code",
      "source": [
        "class test:\n",
        "  def __init__(self):\n",
        "    self.a=100\n",
        "    self.b=200\n",
        "  def display(self):\n",
        "    print(self.a,self.b)\n",
        "t1=test()\n",
        "t1.display()\n",
        "t2=test()\n",
        "t2.display()"
      ],
      "metadata": {
        "colab": {
          "base_uri": "https://localhost:8080/"
        },
        "id": "xaYp4eG8XG3o",
        "outputId": "76f16b8b-a72d-4255-b177-8997b091664b"
      },
      "execution_count": null,
      "outputs": [
        {
          "output_type": "stream",
          "name": "stdout",
          "text": [
            "100 200\n",
            "100 200\n"
          ]
        }
      ]
    },
    {
      "cell_type": "code",
      "source": [
        "class test:\n",
        "  def __init__(self,a,b):\n",
        "    self.a=a\n",
        "    self.b=b\n",
        "  def display(self):\n",
        "    print(self.a,self.b)\n",
        "t1=test(10,20)\n",
        "t1.display()\n",
        "t2=test(30,40)\n",
        "t2.display()"
      ],
      "metadata": {
        "colab": {
          "base_uri": "https://localhost:8080/"
        },
        "id": "l2YigTVyWhyh",
        "outputId": "b225c702-f5d3-4b49-f409-531aa58824b8"
      },
      "execution_count": null,
      "outputs": [
        {
          "output_type": "stream",
          "name": "stdout",
          "text": [
            "10 20\n",
            "30 40\n"
          ]
        }
      ]
    },
    {
      "cell_type": "code",
      "source": [
        "class student:\n",
        "  cname=\"GVPT\"\n",
        "  def __init__(self,name,rno,s1,s2,s3):\n",
        "    self.name=name\n",
        "    self.rno=rno\n",
        "    self.s1=s1\n",
        "    self.s2=s2\n",
        "    self.s3=s3\n",
        "  def display(self):\n",
        "    print(student.cname,self.name,self.rno,self.s1,self.s2,self.s3)\n",
        "  def display_result(self):\n",
        "    if((self.s1>35)and (self.s2>35)and (self.s3>35)):\n",
        "      total=self.s1+self.s2+self.s3\n",
        "      avg=total/3\n",
        "      if(avg>=70):\n",
        "        print(\"Distinction\")\n",
        "      elif(avg>=60):\n",
        "        print(\"First Class\")\n",
        "      elif(avg>=50):\n",
        "        print(\"Second Class\")\n",
        "      elif(avg>=40):\n",
        "        print(\"Third Class\")\n",
        "    else:\n",
        "      print(self.name,\"you are failed\")\n",
        "n=int(input(\"enter the number of students:\"))\n",
        "i=1\n",
        "while(i<=n):\n",
        "  print(\"****************************\")\n",
        "  name=input(\"Enter your name: \")\n",
        "  rno=input(\"Enter your rno: \")\n",
        "  s1,s2,s3=map(int,input(\"Enter the 3 marks\").split(\",\"))\n",
        "  d=student(name,rno,s1,s2,s3)\n",
        "  d.display()\n",
        "  d.display_result()\n",
        "  print(\"*****************************\")\n",
        "  i=i+1"
      ],
      "metadata": {
        "colab": {
          "base_uri": "https://localhost:8080/"
        },
        "id": "1ZTj-3gUYBjt",
        "outputId": "1e78b5e3-ef63-4071-bb79-448bf8754aab"
      },
      "execution_count": null,
      "outputs": [
        {
          "output_type": "stream",
          "name": "stdout",
          "text": [
            "enter the number of students:3\n",
            "****************************\n",
            "Enter your name: Praneeth\n",
            "Enter your rno: 1\n",
            "Enter the 3 marks70,80,60\n",
            "GVPT Praneeth 1 70 80 60\n",
            "Distinction\n",
            "*****************************\n",
            "****************************\n",
            "Enter your name: sakina\n",
            "Enter the 3 marks69,69,69\n",
            "GVPT sakina sakina 69 69 69\n",
            "First Class\n",
            "*****************************\n",
            "****************************\n",
            "Enter your name: haarika\n",
            "Enter your rno: 3\n",
            "Enter the 3 marks100,100,100\n",
            "GVPT haarika 3 100 100 100\n",
            "Distinction\n",
            "*****************************\n"
          ]
        }
      ]
    },
    {
      "cell_type": "code",
      "source": [
        "class Bank:\n",
        "  bname=\"GVPT\"\n",
        "  def __init__(self,name,acno,bal):\n",
        "    self.name=name\n",
        "    self.acno=acno\n",
        "    self.bal=bal\n",
        "  def display(self):\n",
        "    print(Bank.bname,self.name,self.acno,self.bal)\n",
        "  def display_result(self):\n",
        "    if((self.bal>2000)):\n",
        "      print(\"You have sufficient balance\")\n",
        "      choice=int(input(\"Enter the operation you want to perform: 1. deposit,2. withdraw, 3.diplay_bal,4.exit\"))\n",
        "      while(choice<4):\n",
        "        if(choice==1):\n",
        "          amount=int(input(\"Enter amount to deposit: \"))\n",
        "          self.deposit(amount)\n",
        "          choice=int(input(\"Enter next choice\"))\n",
        "          self.display_result()\n",
        "        elif(choice==2):\n",
        "          amount=int(input(\"Enter amount to withdraw: \"))\n",
        "          self.withdraw(amount)\n",
        "          choice=int(input(\"Enter next choice\"))\n",
        "          self.display_result()\n",
        "        elif(choice==3):\n",
        "          self.display()\n",
        "          choice=int(input(\"Enter next choice\"))\n",
        "          self.display_result()\n",
        "        else:\n",
        "          print(\"enter correct choice\")\n",
        "    else:\n",
        "      print(\"not enough funds\")\n",
        "  def deposit(self,amount):\n",
        "    self.bal=self.bal+amount\n",
        "    print(self.bal)\n",
        "  def withdraw(self,amount):\n",
        "    self.bal=self.bal-amount\n",
        "    print(self.bal)\n",
        "n=int(input(\"enter the number of accounts:\"))\n",
        "i=1\n",
        "while(i<=n):\n",
        "  print(\"****************************\")\n",
        "  name=input(\"Enter your name: \")\n",
        "  acno=input(\"Enter your acno: \")\n",
        "  bal=int(input(\"enter your bal\"))\n",
        "  d=Bank(name,acno,bal)\n",
        "  d.display()\n",
        "  d.display_result()\n",
        "  print(\"*****************************\")\n",
        "  i=i+1"
      ],
      "metadata": {
        "colab": {
          "base_uri": "https://localhost:8080/",
          "height": 693
        },
        "id": "kIUvqiOVd9Fk",
        "outputId": "22a66d27-379f-4b04-a428-c8bc957d827c"
      },
      "execution_count": null,
      "outputs": [
        {
          "name": "stdout",
          "output_type": "stream",
          "text": [
            "enter the number of accounts:1\n",
            "****************************\n",
            "Enter your name: Praneeth\n",
            "Enter your acno: 1\n",
            "enter your bal5000\n",
            "GVPT Praneeth 1 5000\n",
            "You have sufficient balance\n",
            "Enter the operation you want to perform: 1. deposit,2. withdraw, 3.diplay_bal,4.exit1\n",
            "Enter amount to deposit: 200\n",
            "5200\n",
            "Enter next choice2\n",
            "You have sufficient balance\n",
            "Enter the operation you want to perform: 1. deposit,2. withdraw, 3.diplay_bal,4.exit2\n",
            "Enter amount to withdraw: 400\n",
            "4800\n",
            "Enter next choice4\n",
            "You have sufficient balance\n",
            "Enter the operation you want to perform: 1. deposit,2. withdraw, 3.diplay_bal,4.exit4\n"
          ]
        },
        {
          "output_type": "error",
          "ename": "KeyboardInterrupt",
          "evalue": "ignored",
          "traceback": [
            "\u001b[0;31m---------------------------------------------------------------------------\u001b[0m",
            "\u001b[0;31mKeyboardInterrupt\u001b[0m                         Traceback (most recent call last)",
            "\u001b[0;32m<ipython-input-24-6744a4f797eb>\u001b[0m in \u001b[0;36m<cell line: 40>\u001b[0;34m()\u001b[0m\n\u001b[1;32m     45\u001b[0m   \u001b[0md\u001b[0m\u001b[0;34m=\u001b[0m\u001b[0mBank\u001b[0m\u001b[0;34m(\u001b[0m\u001b[0mname\u001b[0m\u001b[0;34m,\u001b[0m\u001b[0macno\u001b[0m\u001b[0;34m,\u001b[0m\u001b[0mbal\u001b[0m\u001b[0;34m)\u001b[0m\u001b[0;34m\u001b[0m\u001b[0;34m\u001b[0m\u001b[0m\n\u001b[1;32m     46\u001b[0m   \u001b[0md\u001b[0m\u001b[0;34m.\u001b[0m\u001b[0mdisplay\u001b[0m\u001b[0;34m(\u001b[0m\u001b[0;34m)\u001b[0m\u001b[0;34m\u001b[0m\u001b[0;34m\u001b[0m\u001b[0m\n\u001b[0;32m---> 47\u001b[0;31m   \u001b[0md\u001b[0m\u001b[0;34m.\u001b[0m\u001b[0mdisplay_result\u001b[0m\u001b[0;34m(\u001b[0m\u001b[0;34m)\u001b[0m\u001b[0;34m\u001b[0m\u001b[0;34m\u001b[0m\u001b[0m\n\u001b[0m\u001b[1;32m     48\u001b[0m   \u001b[0mprint\u001b[0m\u001b[0;34m(\u001b[0m\u001b[0;34m\"*****************************\"\u001b[0m\u001b[0;34m)\u001b[0m\u001b[0;34m\u001b[0m\u001b[0;34m\u001b[0m\u001b[0m\n\u001b[1;32m     49\u001b[0m   \u001b[0mi\u001b[0m\u001b[0;34m=\u001b[0m\u001b[0mi\u001b[0m\u001b[0;34m+\u001b[0m\u001b[0;36m1\u001b[0m\u001b[0;34m\u001b[0m\u001b[0;34m\u001b[0m\u001b[0m\n",
            "\u001b[0;32m<ipython-input-24-6744a4f797eb>\u001b[0m in \u001b[0;36mdisplay_result\u001b[0;34m(self)\u001b[0m\n\u001b[1;32m     18\u001b[0m           \u001b[0mself\u001b[0m\u001b[0;34m.\u001b[0m\u001b[0mdisplay_result\u001b[0m\u001b[0;34m(\u001b[0m\u001b[0;34m)\u001b[0m\u001b[0;34m\u001b[0m\u001b[0;34m\u001b[0m\u001b[0m\n\u001b[1;32m     19\u001b[0m         \u001b[0;32melif\u001b[0m\u001b[0;34m(\u001b[0m\u001b[0mchoice\u001b[0m\u001b[0;34m==\u001b[0m\u001b[0;36m2\u001b[0m\u001b[0;34m)\u001b[0m\u001b[0;34m:\u001b[0m\u001b[0;34m\u001b[0m\u001b[0;34m\u001b[0m\u001b[0m\n\u001b[0;32m---> 20\u001b[0;31m           \u001b[0mamount\u001b[0m\u001b[0;34m=\u001b[0m\u001b[0mint\u001b[0m\u001b[0;34m(\u001b[0m\u001b[0minput\u001b[0m\u001b[0;34m(\u001b[0m\u001b[0;34m\"Enter amount to withdraw: \"\u001b[0m\u001b[0;34m)\u001b[0m\u001b[0;34m)\u001b[0m\u001b[0;34m\u001b[0m\u001b[0;34m\u001b[0m\u001b[0m\n\u001b[0m\u001b[1;32m     21\u001b[0m           \u001b[0mself\u001b[0m\u001b[0;34m.\u001b[0m\u001b[0mwithdraw\u001b[0m\u001b[0;34m(\u001b[0m\u001b[0mamount\u001b[0m\u001b[0;34m)\u001b[0m\u001b[0;34m\u001b[0m\u001b[0;34m\u001b[0m\u001b[0m\n\u001b[1;32m     22\u001b[0m           \u001b[0mchoice\u001b[0m\u001b[0;34m=\u001b[0m\u001b[0mint\u001b[0m\u001b[0;34m(\u001b[0m\u001b[0minput\u001b[0m\u001b[0;34m(\u001b[0m\u001b[0;34m\"Enter next choice\"\u001b[0m\u001b[0;34m)\u001b[0m\u001b[0;34m)\u001b[0m\u001b[0;34m\u001b[0m\u001b[0;34m\u001b[0m\u001b[0m\n",
            "\u001b[0;32m/usr/local/lib/python3.10/dist-packages/ipykernel/kernelbase.py\u001b[0m in \u001b[0;36mraw_input\u001b[0;34m(self, prompt)\u001b[0m\n\u001b[1;32m    849\u001b[0m                 \u001b[0;34m\"raw_input was called, but this frontend does not support input requests.\"\u001b[0m\u001b[0;34m\u001b[0m\u001b[0;34m\u001b[0m\u001b[0m\n\u001b[1;32m    850\u001b[0m             )\n\u001b[0;32m--> 851\u001b[0;31m         return self._input_request(str(prompt),\n\u001b[0m\u001b[1;32m    852\u001b[0m             \u001b[0mself\u001b[0m\u001b[0;34m.\u001b[0m\u001b[0m_parent_ident\u001b[0m\u001b[0;34m,\u001b[0m\u001b[0;34m\u001b[0m\u001b[0;34m\u001b[0m\u001b[0m\n\u001b[1;32m    853\u001b[0m             \u001b[0mself\u001b[0m\u001b[0;34m.\u001b[0m\u001b[0m_parent_header\u001b[0m\u001b[0;34m,\u001b[0m\u001b[0;34m\u001b[0m\u001b[0;34m\u001b[0m\u001b[0m\n",
            "\u001b[0;32m/usr/local/lib/python3.10/dist-packages/ipykernel/kernelbase.py\u001b[0m in \u001b[0;36m_input_request\u001b[0;34m(self, prompt, ident, parent, password)\u001b[0m\n\u001b[1;32m    893\u001b[0m             \u001b[0;32mexcept\u001b[0m \u001b[0mKeyboardInterrupt\u001b[0m\u001b[0;34m:\u001b[0m\u001b[0;34m\u001b[0m\u001b[0;34m\u001b[0m\u001b[0m\n\u001b[1;32m    894\u001b[0m                 \u001b[0;31m# re-raise KeyboardInterrupt, to truncate traceback\u001b[0m\u001b[0;34m\u001b[0m\u001b[0;34m\u001b[0m\u001b[0m\n\u001b[0;32m--> 895\u001b[0;31m                 \u001b[0;32mraise\u001b[0m \u001b[0mKeyboardInterrupt\u001b[0m\u001b[0;34m(\u001b[0m\u001b[0;34m\"Interrupted by user\"\u001b[0m\u001b[0;34m)\u001b[0m \u001b[0;32mfrom\u001b[0m \u001b[0;32mNone\u001b[0m\u001b[0;34m\u001b[0m\u001b[0;34m\u001b[0m\u001b[0m\n\u001b[0m\u001b[1;32m    896\u001b[0m             \u001b[0;32mexcept\u001b[0m \u001b[0mException\u001b[0m \u001b[0;32mas\u001b[0m \u001b[0me\u001b[0m\u001b[0;34m:\u001b[0m\u001b[0;34m\u001b[0m\u001b[0;34m\u001b[0m\u001b[0m\n\u001b[1;32m    897\u001b[0m                 \u001b[0mself\u001b[0m\u001b[0;34m.\u001b[0m\u001b[0mlog\u001b[0m\u001b[0;34m.\u001b[0m\u001b[0mwarning\u001b[0m\u001b[0;34m(\u001b[0m\u001b[0;34m\"Invalid Message:\"\u001b[0m\u001b[0;34m,\u001b[0m \u001b[0mexc_info\u001b[0m\u001b[0;34m=\u001b[0m\u001b[0;32mTrue\u001b[0m\u001b[0;34m)\u001b[0m\u001b[0;34m\u001b[0m\u001b[0;34m\u001b[0m\u001b[0m\n",
            "\u001b[0;31mKeyboardInterrupt\u001b[0m: Interrupted by user"
          ]
        }
      ]
    },
    {
      "cell_type": "code",
      "source": [
        "class Bank:\n",
        "    bname=\"LUNCHBREAK\"\n",
        "    def __init__(self,name,accno,balance):\n",
        "        self.name=name\n",
        "        self.accno=accno\n",
        "        self.balance=balance\n",
        "    def display(self):\n",
        "        print(Bank.bname,self.name,self.accno,self.balance)\n",
        "    def bal(self):\n",
        "        if(self.balance>=2000):\n",
        "            print(self.balance)\n",
        "        else:\n",
        "            print(self.balance,\"Minimum funds to be mainted please maintain\")\n",
        "    def withdraw(self):\n",
        "        amount=int(input(\" amount to be withdrawn\"))\n",
        "        if(self.balance<2000):\n",
        "            print(\"Minimum sufficients to be maintained\")\n",
        "        elif(amount>self.balance):\n",
        "            print(\"Not sufficient funds\")\n",
        "        else:\n",
        "            if((self.balance-amount)>=2000):\n",
        "                self.balance=self.balance-amount\n",
        "            else:\n",
        "                print(\"2000 to be maintained\")\n",
        "    def deposit(self):\n",
        "        amount=int(input(\"amount to be deposited\"))\n",
        "        self.balance=self.balance+amount\n",
        "\n",
        "name=input(\"Name: \")\n",
        "accno=int(input(\"AccNo: \"))\n",
        "balance=int(input(\"Balance: \"))\n",
        "b=Bank(name,accno,balance)\n",
        "print(\"1.display \\n 2.deposit \\n 3.balance \\n 4.withdraw\")\n",
        "i=int(input(\"Enter option\"))\n",
        "while(i!=0):\n",
        "    if(i==1):\n",
        "        b.display()\n",
        "    if(i==2):\n",
        "        b.deposit()\n",
        "    if(i==3):\n",
        "        b.bal()\n",
        "    if(i==4):\n",
        "        b.withdraw()\n",
        "    print(\"1.display \\n 2.deposit \\n 3.balance \\n 4.withdraw \\n 0. Exit\")\n",
        "    i=int(input(\"Enter option\"))"
      ],
      "metadata": {
        "colab": {
          "base_uri": "https://localhost:8080/"
        },
        "id": "Suxy6yMbi61g",
        "outputId": "25f6bf0b-f7b0-4a2b-f532-c0a46bd98478"
      },
      "execution_count": null,
      "outputs": [
        {
          "output_type": "stream",
          "name": "stdout",
          "text": [
            "Name: Praneeth\n",
            "AccNo: 1\n",
            "Balance: 4000\n",
            "1.display \n",
            " 2.deposit \n",
            " 3.balance \n",
            " 4.withdraw\n",
            "Enter option2\n",
            "amount to be deposited200\n",
            "1.display \n",
            " 2.deposit \n",
            " 3.balance \n",
            " 4.withdraw \n",
            " 0. Exit\n",
            "Enter option1\n",
            "LUNCHBREAK Praneeth 1 4200\n",
            "1.display \n",
            " 2.deposit \n",
            " 3.balance \n",
            " 4.withdraw \n",
            " 0. Exit\n"
          ]
        }
      ]
    },
    {
      "cell_type": "code",
      "source": [
        "#we can access the properties of one class inside another class in 2 ways, 1. has a relation,2. is a relation\n",
        "#has a relation- as per has a relation,  if you want to access the properties of one class inside another class, we have to create object of one class inside another class\n",
        "#inheritance- with the help of inheritance we can access the properties of one class inside another class.\n",
        "#a class which is extended by another class , is known as the super class or parent class\n",
        "#a class which extends the another class is called the subclass or child class\n",
        "#using inheritance ,we can access the properties directly"
      ],
      "metadata": {
        "id": "UK0VDCs7omjA"
      },
      "execution_count": null,
      "outputs": []
    },
    {
      "cell_type": "code",
      "source": [
        "class x:\n",
        "  a=1000\n",
        "  def insert(self):\n",
        "    self.b=2000\n",
        "  def m1(self):\n",
        "    print(\"in m1\")\n",
        "class y:\n",
        "  c=3000\n",
        "  def insert1(self):\n",
        "    self.d=4000\n",
        "  def m2(self):\n",
        "    print(\"in m2:\")\n",
        "  def display(self):\n",
        "    print(y.c)\n",
        "    self.insert1()\n",
        "    print(self.d)\n",
        "    self.m2()\n",
        "    x1=x()\n",
        "    print(x.a)\n",
        "    x1.insert()\n",
        "    print(x1.b)\n",
        "    x1.m1()\n",
        "y1=y()\n",
        "y1.display()"
      ],
      "metadata": {
        "colab": {
          "base_uri": "https://localhost:8080/"
        },
        "id": "NyVlynvkySKs",
        "outputId": "b2811a82-dc5f-45c8-bef8-35100f5e11f9"
      },
      "execution_count": null,
      "outputs": [
        {
          "output_type": "stream",
          "name": "stdout",
          "text": [
            "3000\n",
            "4000\n",
            "in m2:\n",
            "1000\n",
            "2000\n",
            "in m1\n"
          ]
        }
      ]
    },
    {
      "cell_type": "code",
      "source": [
        "class x:\n",
        "  a=1000\n",
        "  def insert(self):\n",
        "    self.b=2000\n",
        "  def m1(self):\n",
        "    print(\"in m1\")\n",
        "class y(x):\n",
        "  c=3000\n",
        "  def insert1(self):\n",
        "    self.d=4000\n",
        "  def m2(self):\n",
        "    print(\"in m2:\")\n",
        "  def display(self):\n",
        "    print(y.c)\n",
        "    self.insert1()\n",
        "    print(self.d)\n",
        "    self.m2()\n",
        "    print(y.a)\n",
        "    self.insert()\n",
        "    print(self.b)\n",
        "    self.m1()\n",
        "y1=y()\n",
        "y1.display()"
      ],
      "metadata": {
        "colab": {
          "base_uri": "https://localhost:8080/"
        },
        "id": "QCcnY1_s0p4_",
        "outputId": "4ddefdd3-1104-4b97-de25-b4e53a6f94c2"
      },
      "execution_count": null,
      "outputs": [
        {
          "output_type": "stream",
          "name": "stdout",
          "text": [
            "3000\n",
            "4000\n",
            "in m2:\n",
            "1000\n",
            "2000\n",
            "in m1\n"
          ]
        }
      ]
    },
    {
      "cell_type": "code",
      "source": [
        "class x:\n",
        "  a=1000\n",
        "  def insert(self):\n",
        "    self.b=2000\n",
        "  def m1(self):\n",
        "    print(\"in m1\")\n",
        "class y(x):\n",
        "  c=3000\n",
        "  def insert1(self):\n",
        "    self.d=4000\n",
        "  def m2(self):\n",
        "    print(\"in m2:\")\n",
        "y1=y()\n",
        "print(y.c)\n",
        "y1.insert()\n",
        "y1.insert1()\n",
        "print(y1.d)\n",
        "print(y.a)\n",
        "print(y1.b)\n",
        "y1.m1()\n",
        "y1.m2()\n"
      ],
      "metadata": {
        "colab": {
          "base_uri": "https://localhost:8080/"
        },
        "id": "jt-3GOzE2nR_",
        "outputId": "5a067371-5f85-46e8-ed0c-a59bb2cb5025"
      },
      "execution_count": null,
      "outputs": [
        {
          "output_type": "stream",
          "name": "stdout",
          "text": [
            "3000\n",
            "4000\n",
            "1000\n",
            "2000\n",
            "in m1\n",
            "in m2:\n"
          ]
        }
      ]
    },
    {
      "cell_type": "code",
      "source": [
        "#polymorphism-defining one thing in number of forms is called as polymorphism\n",
        "#we can achielve polymorphism in two different ways- method overloading, method overriding\n",
        "#method overloading is partially supported in python\n",
        "#method overriding: the concept of defining multiple methods with same name with same number of\n",
        "#arguments or diff number of arguments, one method is defined in subclass and another method is defined in superclass\n",
        "#super class properties automatically inherited into all subclasses,if subclass does not requre the same implementation part,\n",
        "#then we can override that corresponding method in the subclass"
      ],
      "metadata": {
        "id": "PYQVGD3U3kaA"
      },
      "execution_count": null,
      "outputs": []
    },
    {
      "cell_type": "code",
      "source": [
        "class x:\n",
        "  def m1(self):\n",
        "    print(\"in m1 of x:\")\n",
        "  def m2(self):\n",
        "    print(\"in m2 of x:\")\n",
        "class y(x):\n",
        "  def m2(self):\n",
        "    print(\"in m2 of y:\")\n",
        "  def m3(self):\n",
        "    print(\"in m3 of y:\")\n",
        "class z(x):\n",
        "  def m1(self):\n",
        "    print(\"in m1 of z:\")\n",
        "  def m4(self):\n",
        "    print(\"in m4 of z:\")\n",
        "y1=y()\n",
        "y1.m2()\n",
        "y1.m1()\n",
        "p=y1.__str__()\n",
        "print(p)\n",
        "y1.m3()\n",
        "z1=z()\n",
        "z1.m1()\n",
        "z1.m2()\n",
        "z1.m4()\n",
        "print(x.__bases__)\n",
        "print(y.__bases__)"
      ],
      "metadata": {
        "colab": {
          "base_uri": "https://localhost:8080/"
        },
        "id": "PPJMzhuO6gBo",
        "outputId": "2816fe2d-7f03-4869-cbe7-756de651225a"
      },
      "execution_count": null,
      "outputs": [
        {
          "output_type": "stream",
          "name": "stdout",
          "text": [
            "in m2 of y:\n",
            "in m1 of x:\n",
            "<__main__.y object at 0x7f00920d1ed0>\n",
            "in m3 of y:\n",
            "in m1 of z:\n",
            "in m2 of x:\n",
            "in m4 of z:\n",
            "(<class 'object'>,)\n",
            "(<class '__main__.x'>,)\n"
          ]
        }
      ]
    },
    {
      "cell_type": "code",
      "source": [
        "class x:\n",
        "  def m1(self):\n",
        "    print(\"in m1 of x:\")\n",
        "  def m2(self):\n",
        "    print(\"in m2 of x:\")\n",
        "class y(x):\n",
        "  def m2(self):\n",
        "    print(\"in m2 of y:\")\n",
        "    super().m2()\n",
        "  def m3(self):\n",
        "    print(\"in m3 of y:\")\n",
        "class z(x):\n",
        "  def m1(self):\n",
        "    print(\"in m1 of z:\")\n",
        "    super().m1()\n",
        "  def m4(self):\n",
        "    print(\"in m4 of z:\")\n",
        "y1=y()\n",
        "y1.m2()\n",
        "y1.m1()\n",
        "p=y1.__str__()\n",
        "print(p)\n",
        "y1.m3()\n",
        "z1=z()\n",
        "z1.m1()\n",
        "z1.m2()\n",
        "z1.m4()\n",
        "print(x.__bases__)\n",
        "print(y.__bases__)"
      ],
      "metadata": {
        "colab": {
          "base_uri": "https://localhost:8080/"
        },
        "id": "M0its8Vv7h8a",
        "outputId": "7443186f-f5ff-4ac6-e262-b41875db3c99"
      },
      "execution_count": null,
      "outputs": [
        {
          "output_type": "stream",
          "name": "stdout",
          "text": [
            "in m2 of y:\n",
            "in m2 of x:\n",
            "in m1 of x:\n",
            "<__main__.y object at 0x7f009213fe80>\n",
            "in m3 of y:\n",
            "in m1 of z:\n",
            "in m1 of x:\n",
            "in m2 of x:\n",
            "in m4 of z:\n",
            "(<class 'object'>,)\n",
            "(<class '__main__.x'>,)\n"
          ]
        }
      ]
    },
    {
      "cell_type": "code",
      "source": [
        "class x:\n",
        "  def __init__(self,key):\n",
        "    self.key=key\n",
        "  def __str__(self):\n",
        "    return self.key\n",
        "x1=x(\"Python\")\n",
        "p=x1.__str__()\n",
        "x2=x(\"MPMC\")\n",
        "print(x2.__str__())\n",
        "x3=x(\"Java\")\n",
        "print(x3.__str__())"
      ],
      "metadata": {
        "colab": {
          "base_uri": "https://localhost:8080/"
        },
        "id": "i7DbMHuO-ZAa",
        "outputId": "e9b2cfee-ad76-499b-c01e-9a3171648829"
      },
      "execution_count": null,
      "outputs": [
        {
          "output_type": "stream",
          "name": "stdout",
          "text": [
            "MPMC\n",
            "Java\n"
          ]
        }
      ]
    },
    {
      "cell_type": "code",
      "source": [
        "''' constructor overriding-\n",
        "1.defining multiple constructors with same name, with same or different number of parameters,\n",
        "one constructor will be defined in super class and another constructor will be defined in subclass.\n",
        "2.always subclass constructor will be executed'''\n",
        "\n",
        "class x:\n",
        "  def __init__(self):\n",
        "    print(\"x class  constructor:\")\n",
        "class y(x):\n",
        "  pass\n",
        "  def __init__(self):\n",
        "    print(\"y class constructor:\")\n",
        "    super().__init__()\n",
        "y1=y()"
      ],
      "metadata": {
        "id": "7FkOFfsv_3cs",
        "colab": {
          "base_uri": "https://localhost:8080/"
        },
        "outputId": "511eae81-9f0a-46ba-e65d-136ee87d49cd"
      },
      "execution_count": null,
      "outputs": [
        {
          "output_type": "stream",
          "name": "stdout",
          "text": [
            "y class constructor:\n",
            "x class  constructor:\n"
          ]
        }
      ]
    },
    {
      "cell_type": "code",
      "source": [
        "class mul:\n",
        "  def __init__(self,a,b):\n",
        "    '''self.a=a\n",
        "    self.b=b'''\n",
        "    print(a*b)\n",
        "class add(mul):\n",
        "  def __init__(self,a,b):\n",
        "    '''self.a=a\n",
        "    self.b=b'''\n",
        "    print(a+b)\n",
        "    super().__init__(10,2)\n",
        "a=add(10,20)"
      ],
      "metadata": {
        "colab": {
          "base_uri": "https://localhost:8080/"
        },
        "id": "Q2s5XbH3S3yt",
        "outputId": "b11f4168-9707-4721-d1e4-a82867957d12"
      },
      "execution_count": null,
      "outputs": [
        {
          "output_type": "stream",
          "name": "stdout",
          "text": [
            "30\n",
            "20\n"
          ]
        }
      ]
    },
    {
      "cell_type": "code",
      "source": [
        "'''1.for static method no need to create the object\n",
        "2. we can access static method directly using the class name'''\n",
        "class Account:\n",
        "  def __init__(self,acc_number, balance_amt):\n",
        "    self.__acc_number=acc_number\n",
        "    self.__balance_amount=balance_amt\n",
        "    self.account_type=\"Saving\"\n",
        "  def get_acc_number(self):\n",
        "    return self.__acc_number\n",
        "  def get_balance_amount(self):\n",
        "    return self.__balance_amount\n",
        "a=Account(123456,460000)\n",
        "print(a.get_acc_number(),a.account_type,a.get_balance_amount())"
      ],
      "metadata": {
        "colab": {
          "base_uri": "https://localhost:8080/"
        },
        "id": "uTE38yX8UDAE",
        "outputId": "52f65b48-2cbf-40a5-d4fa-87774b66f23a"
      },
      "execution_count": null,
      "outputs": [
        {
          "output_type": "stream",
          "name": "stdout",
          "text": [
            "123456 Saving 460000\n"
          ]
        }
      ]
    },
    {
      "cell_type": "code",
      "source": [
        "class x:\n",
        "  __a=10\n",
        "x1=x()\n",
        "print(x1.__a)"
      ],
      "metadata": {
        "id": "6wdAv9cmdSEM",
        "colab": {
          "base_uri": "https://localhost:8080/",
          "height": 200
        },
        "outputId": "2d284160-8e5e-45f0-93dc-df7a99b02f36"
      },
      "execution_count": null,
      "outputs": [
        {
          "output_type": "error",
          "ename": "AttributeError",
          "evalue": "ignored",
          "traceback": [
            "\u001b[0;31m---------------------------------------------------------------------------\u001b[0m",
            "\u001b[0;31mAttributeError\u001b[0m                            Traceback (most recent call last)",
            "\u001b[0;32m<ipython-input-17-786305178e0c>\u001b[0m in \u001b[0;36m<cell line: 4>\u001b[0;34m()\u001b[0m\n\u001b[1;32m      2\u001b[0m   \u001b[0m__a\u001b[0m\u001b[0;34m=\u001b[0m\u001b[0;36m10\u001b[0m\u001b[0;34m\u001b[0m\u001b[0;34m\u001b[0m\u001b[0m\n\u001b[1;32m      3\u001b[0m \u001b[0mx1\u001b[0m\u001b[0;34m=\u001b[0m\u001b[0mx\u001b[0m\u001b[0;34m(\u001b[0m\u001b[0;34m)\u001b[0m\u001b[0;34m\u001b[0m\u001b[0;34m\u001b[0m\u001b[0m\n\u001b[0;32m----> 4\u001b[0;31m \u001b[0mprint\u001b[0m\u001b[0;34m(\u001b[0m\u001b[0mx1\u001b[0m\u001b[0;34m.\u001b[0m\u001b[0m__a\u001b[0m\u001b[0;34m)\u001b[0m\u001b[0;34m\u001b[0m\u001b[0;34m\u001b[0m\u001b[0m\n\u001b[0m",
            "\u001b[0;31mAttributeError\u001b[0m: 'x' object has no attribute '__a'"
          ]
        }
      ]
    },
    {
      "cell_type": "code",
      "source": [
        "x,y,z= map(int,input().split(\" \"))\n",
        "if(x==y) and (y==z):\n",
        "  print(\"equilateral;\")\n",
        "elif(x==y) or (y==z) or (x==z):\n",
        "  print(\"Isosceles\")\n",
        "elif(x!=y)and (y!=z)and(x!=z):\n",
        "  print(\"scalene\")\n"
      ],
      "metadata": {
        "colab": {
          "base_uri": "https://localhost:8080/"
        },
        "id": "PKQw2PSMrgiG",
        "outputId": "53eaa473-d53d-4785-8a49-68a0506e03a5"
      },
      "execution_count": null,
      "outputs": [
        {
          "output_type": "stream",
          "name": "stdout",
          "text": [
            "3 6 9\n",
            "scalene\n"
          ]
        }
      ]
    },
    {
      "cell_type": "code",
      "source": [
        "x,y=map(int,input().split())\n",
        "sum=x+y\n",
        "if(sum>=15 and sum <= 20):#if sum in range(15,21)\n",
        "  sum=20\n",
        "print(sum)"
      ],
      "metadata": {
        "colab": {
          "base_uri": "https://localhost:8080/"
        },
        "id": "pjsHx9pesPRr",
        "outputId": "e1c14903-c93f-436d-8160-ed97d28d12ee"
      },
      "execution_count": null,
      "outputs": [
        {
          "output_type": "stream",
          "name": "stdout",
          "text": [
            "10 6\n",
            "20\n"
          ]
        }
      ]
    },
    {
      "cell_type": "code",
      "source": [
        "l=input()\n",
        "vowels=['a','e','i','o','u','A','E','I','O','U']\n",
        "if l in vowels:\n",
        "  print(\"vowel\")\n",
        "else:\n",
        "  print(\"consonant\")"
      ],
      "metadata": {
        "colab": {
          "base_uri": "https://localhost:8080/"
        },
        "id": "GHC2bk5NtNuR",
        "outputId": "16b6ac86-abe5-4777-ca23-1fbada07135a"
      },
      "execution_count": null,
      "outputs": [
        {
          "output_type": "stream",
          "name": "stdout",
          "text": [
            "a\n",
            "vowel\n"
          ]
        }
      ]
    },
    {
      "cell_type": "code",
      "source": [
        "l=input()\n",
        "if l.lower() in [\"january\",\"march\",\"may\",\"july\",\"august\",\"october\",\"december\"]:\n",
        "  print(31)\n",
        "elif l.lower() in [\"april\",\"june\",\"september\",\"november\"]:\n",
        "  print(30)\n",
        "elif l.lower() in [\"february\"]:\n",
        "  print(28)\n",
        "else:\n",
        "  print(\"Enter valid month\")"
      ],
      "metadata": {
        "colab": {
          "base_uri": "https://localhost:8080/"
        },
        "id": "AMgVRiSyujyu",
        "outputId": "fc321dab-8ca9-4ab5-dc7d-f17fd150f1fc"
      },
      "execution_count": null,
      "outputs": [
        {
          "output_type": "stream",
          "name": "stdout",
          "text": [
            "MARCH\n",
            "31\n"
          ]
        }
      ]
    },
    {
      "cell_type": "code",
      "source": [
        "'''Formatting-\n",
        "old style:\n",
        "int -> %d\n",
        "float -> %f\n",
        "str -> %s\n",
        "octal -> %o\n",
        "hexa -> %x'''\n",
        "a,b=20,7\n",
        "print(\"the sum of %d and %d is %d\"%(a,b,a+b))\n",
        "print(\"the product of %d and %d is %d\"%(a,b,a*b))\n",
        "print(\"the difference of %d and %d is %d\"%(a,b,a-b))\n",
        "print(\"the integer division of %d and %d is %d\"%(a,b,a//b))\n",
        "print(\"the float division of %d and %d is %f\"%(a,b,a/b))\n",
        "print(\"%o,%x\"%(a,a))"
      ],
      "metadata": {
        "colab": {
          "base_uri": "https://localhost:8080/"
        },
        "id": "mxgdo5lXvoif",
        "outputId": "1db40913-29f4-441b-e363-9bfb9d6b8e04"
      },
      "execution_count": null,
      "outputs": [
        {
          "output_type": "stream",
          "name": "stdout",
          "text": [
            "the sum of 20 and 7 is 27\n",
            "the product of 20 and 7 is 140\n",
            "the difference of 20 and 7 is 13\n",
            "the integer division of 20 and 7 is 2\n",
            "the float division of 20 and 7 is 2.857143\n",
            "24,14\n"
          ]
        }
      ]
    },
    {
      "cell_type": "code",
      "source": [
        "Name = \"Krishna\"\n",
        "x=3.478656\n",
        "print(\"%.2f\"%(x))"
      ],
      "metadata": {
        "colab": {
          "base_uri": "https://localhost:8080/"
        },
        "id": "ZpYLGskBzC3T",
        "outputId": "3bc17df5-19e6-41f7-85c8-0438eebe0919"
      },
      "execution_count": null,
      "outputs": [
        {
          "output_type": "stream",
          "name": "stdout",
          "text": [
            "3.48\n"
          ]
        }
      ]
    },
    {
      "cell_type": "code",
      "source": [
        "'''new style\n",
        "int->:d\n",
        "float->:f\n",
        "str->:s\n",
        "octal ->:o\n",
        "hexa ->:x\n",
        "binary ->:b'''\n",
        "a,b=20,10\n",
        "print(\"The sum of {:d} and {:d} is {:f}\".format(a,b,a+b))\n",
        "print(\"The diff of {} and {} is {}\".format(a,b,a-b))\n"
      ],
      "metadata": {
        "colab": {
          "base_uri": "https://localhost:8080/"
        },
        "id": "qq1QsenQ0-_u",
        "outputId": "4a65cdff-2fee-4dd6-96e8-e8e1198cdd1f"
      },
      "execution_count": null,
      "outputs": [
        {
          "output_type": "stream",
          "name": "stdout",
          "text": [
            "The sum of 20 and 10 is 30.000000\n",
            "The diff of 20 and 10 is 10\n"
          ]
        }
      ]
    },
    {
      "cell_type": "code",
      "source": [
        "#Latest style-\n",
        "a,b=20,10\n",
        "print(f\"The sum of {a} and {b} is {a+b}\")\n",
        "print(f\"The diff between {a} and {b} is {a-b}\")"
      ],
      "metadata": {
        "id": "61p9pd8I2M8o",
        "colab": {
          "base_uri": "https://localhost:8080/"
        },
        "outputId": "837c8349-19e0-4a5f-eca0-1e5c3d7c968c"
      },
      "execution_count": null,
      "outputs": [
        {
          "output_type": "stream",
          "name": "stdout",
          "text": [
            "The sum of 20 and 10 is 30\n",
            "The diff between 20 and 10 is 10\n"
          ]
        }
      ]
    },
    {
      "cell_type": "code",
      "source": [
        "#new style\n",
        "print(\"{2},{1},{0},{3},{4}\".format(10,20,30,40,50))"
      ],
      "metadata": {
        "colab": {
          "base_uri": "https://localhost:8080/"
        },
        "id": "mAGf9zQ6fyPb",
        "outputId": "e914ac5a-c75c-4959-8e94-3927de572469"
      },
      "execution_count": null,
      "outputs": [
        {
          "output_type": "stream",
          "name": "stdout",
          "text": [
            "30,20,10,40,50\n"
          ]
        }
      ]
    },
    {
      "cell_type": "code",
      "source": [
        "s=[\"krishna\",\"anil\",\"raju\",\"suneel\",\"prasanthi\",\"jil\",\"jeeva\"]\n",
        "print(sorted(s))\n",
        "for i in range(len(s)):\n",
        "  for j in range(len(s)-1):\n",
        "    if(s[i]<s[j]):\n",
        "      s[i],s[j]=s[j],s[i]\n",
        "print(s)"
      ],
      "metadata": {
        "colab": {
          "base_uri": "https://localhost:8080/"
        },
        "id": "DRBHJ1ABgG5R",
        "outputId": "28d6ee28-a353-43dc-b8a7-0e3216b56596"
      },
      "execution_count": null,
      "outputs": [
        {
          "output_type": "stream",
          "name": "stdout",
          "text": [
            "['anil', 'jeeva', 'jil', 'krishna', 'prasanthi', 'raju', 'suneel']\n",
            "['anil', 'jeeva', 'jil', 'krishna', 'prasanthi', 'raju', 'suneel']\n"
          ]
        }
      ]
    },
    {
      "cell_type": "code",
      "source": [
        "#Linked list\n",
        "#single linked list- linked list is a collection of nodes and it is a linear data structure,\n",
        "#every node will contain the 2 fields- 1- data and 2- address\n",
        "#The next field will hold address of the next node\n",
        "#LinkedList\n",
        "#Singly linked list\n",
        "class Node:\n",
        "  def __init__(self,data):\n",
        "    self.data=data\n",
        "    self.next=None\n",
        "class single:\n",
        "  def __init__(self):\n",
        "    self.head=None\n",
        "  def display(self):\n",
        "    temp=self.head\n",
        "    if(self.head is None):\n",
        "      print(\"Empty\")\n",
        "    else:\n",
        "      while(temp):\n",
        "        print(temp.data,\"--->\",end=\"\")\n",
        "        temp=temp.next\n",
        "n1=Node(10)\n",
        "s1=single()\n",
        "s1.head=n1\n",
        "n2=Node(20)\n",
        "s1.head.next=n2\n",
        "n3=Node(30)\n",
        "n2.next=n3\n",
        "n4=Node(40)\n",
        "n3.next=n4\n",
        "s1.display()"
      ],
      "metadata": {
        "colab": {
          "base_uri": "https://localhost:8080/"
        },
        "id": "p173oY3GiHot",
        "outputId": "0f5b6481-a923-4b68-f0e0-c7e775655f5f"
      },
      "execution_count": null,
      "outputs": [
        {
          "output_type": "stream",
          "name": "stdout",
          "text": [
            "10 --->20 --->30 --->40 --->"
          ]
        }
      ]
    },
    {
      "cell_type": "code",
      "source": [
        "#add the node in beginning for the above code\n",
        "n=Node(5)\n",
        "#s1=single()\n",
        "s1.head=n\n",
        "n.next=n1\n",
        "s1.display()"
      ],
      "metadata": {
        "colab": {
          "base_uri": "https://localhost:8080/"
        },
        "id": "s16iS1wxwMiK",
        "outputId": "d0b508ed-d5b5-41ce-abe2-eb4f7b010ab9"
      },
      "execution_count": null,
      "outputs": [
        {
          "output_type": "stream",
          "name": "stdout",
          "text": [
            "5 --->10 --->20 --->30 --->40 --->"
          ]
        }
      ]
    },
    {
      "cell_type": "code",
      "source": [
        "#write a program to print the node elements in reverse order\n",
        "#Linked list\n",
        "#single linked list- linked list is a collection of nodes and it is a linear data structure,\n",
        "#every node will contain the 2 fields- 1- data and 2- address\n",
        "#The next field will hold address of the next node\n",
        "#LinkedList\n",
        "#Singly linked list\n",
        "class Node:\n",
        "  def __init__(self,data):\n",
        "    self.data=data\n",
        "    self.next=None\n",
        "class single:\n",
        "  def __init__(self):\n",
        "    self.head=None\n",
        "  def insert_beg(self,data):\n",
        "    nb=Node(data)\n",
        "    nb.next=self.head\n",
        "    self.head=nb\n",
        "  def at_middle(self,data,pos):\n",
        "    nm=Node(data)\n",
        "    temp=self.head\n",
        "    p=0\n",
        "    for p in range(pos-1):\n",
        "      temp=temp.next\n",
        "    nm.next=temp.next\n",
        "    temp.next=nm\n",
        "  def insert_end(self,data):\n",
        "    temp=self.head\n",
        "    ne=Node(data)\n",
        "    while(temp.next is not None):\n",
        "      temp=temp.next\n",
        "    temp.next=ne\n",
        "  def display(self):\n",
        "    temp=self.head\n",
        "    if(self.head is None):\n",
        "      print(\"Empty\")\n",
        "    else:\n",
        "      while(temp):\n",
        "        print(temp.data,\"-->\",end=\"\")\n",
        "        temp=temp.next\n",
        "  def display_rev(self):\n",
        "    l=[]\n",
        "    temp=self.head\n",
        "    if(self.head is None):\n",
        "      print(\"Empty\")\n",
        "    else:\n",
        "      while(temp):\n",
        "        s=temp.data\n",
        "        l.append(s)\n",
        "        temp=temp.next\n",
        "      print(\"\\n\",l)\n",
        "      for p in range(len(l)-1,-1,-1):\n",
        "        print(l[p],\"-->\",end=\"\")\n",
        "  def display_rev2(self):\n",
        "    prev = None\n",
        "    temp=self.head\n",
        "    while(temp is not None):\n",
        "      next=temp.next\n",
        "      temp.next=prev\n",
        "      prev=temp\n",
        "      temp=next\n",
        "    self.head=prev\n",
        "n1=Node(10)\n",
        "s1=single()\n",
        "s1.head=n1\n",
        "n2=Node(20)\n",
        "s1.head.next=n2\n",
        "n3=Node(30)\n",
        "n2.next=n3\n",
        "n4=Node(40)\n",
        "n3.next=n4\n",
        "s1.insert_beg(5)\n",
        "s1.insert_end(50)\n",
        "s1.at_middle(32,1)\n",
        "s1.display()\n",
        "s1.display_rev()\n",
        "s1.display_rev2()\n",
        "s1.display()"
      ],
      "metadata": {
        "id": "XGpzX71GzLQP",
        "colab": {
          "base_uri": "https://localhost:8080/"
        },
        "outputId": "7bf2b5d6-4d62-41ad-f044-9883b27b8db8"
      },
      "execution_count": null,
      "outputs": [
        {
          "output_type": "stream",
          "name": "stdout",
          "text": [
            "5 -->32 -->10 -->20 -->30 -->40 -->50 -->\n",
            " [5, 32, 10, 20, 30, 40, 50]\n",
            "50 -->40 -->30 -->20 -->10 -->32 -->5 -->50 -->40 -->30 -->20 -->10 -->32 -->5 -->"
          ]
        }
      ]
    },
    {
      "cell_type": "code",
      "source": [
        "#Double linked list\n",
        "#it is a linear data structure\n",
        "#it is also a collection of nodes\n",
        "#in the double linked list every node will contain 3 fields- prev node address,data and next node address\n",
        "class Node:\n",
        "  def __init__(self,data):\n",
        "    self.data=data\n",
        "    self.prev=None\n",
        "    self.next=None\n",
        "class double:\n",
        "  def __init__(self):\n",
        "    self.head=None\n",
        "  def at_beg(self,data):\n",
        "    nb=Node(data)\n",
        "    nb.next=self.head\n",
        "    self.head.prev=nb\n",
        "    self.head=nb\n",
        "  def at_end(self,data):\n",
        "    temp=self.head\n",
        "    ne=Node(data)\n",
        "    while(temp.next is not None):\n",
        "      temp=temp.next\n",
        "    temp.next=ne\n",
        "    ne.prev=temp\n",
        "  def at_mid(self,data,pos):\n",
        "    temp = self.head\n",
        "    nm=Node(data)\n",
        "    for p in range(pos-1):\n",
        "      temp=temp.next\n",
        "    nm.next=temp.next\n",
        "    temp.next=nm\n",
        "    nm.prev=temp\n",
        "  def display_rev2(self):\n",
        "    prev = None\n",
        "    temp=self.head\n",
        "    while(temp is not None):\n",
        "      next=temp.next\n",
        "      temp.next=prev\n",
        "      prev=temp\n",
        "      temp=next\n",
        "    self.head=prev\n",
        "  def display(self):\n",
        "    temp=self.head\n",
        "    if(self.head is None):\n",
        "      print(\"Empty\")\n",
        "    else:\n",
        "      while(temp):\n",
        "        print(temp.data,\"-->\",end=\"\")\n",
        "        temp=temp.next\n",
        "n1=Node(10)\n",
        "d1=double()\n",
        "d1.head=n1\n",
        "n2=Node(20)\n",
        "n1.next=n2\n",
        "n2.prev=n1\n",
        "n3=Node(30)\n",
        "n2.next=n3\n",
        "n3.prev=n2\n",
        "n4=Node(40)\n",
        "n3.next=n4\n",
        "n4.prev=n3\n",
        "d1.at_beg(5)\n",
        "d1.at_end(50)\n",
        "d1.at_mid(25,3)\n",
        "d1.display_rev2()\n",
        "d1.display()"
      ],
      "metadata": {
        "id": "NUfWVnEqI_qa",
        "colab": {
          "base_uri": "https://localhost:8080/"
        },
        "outputId": "0060c071-2349-4006-e67f-294ccb7223fc"
      },
      "execution_count": null,
      "outputs": [
        {
          "output_type": "stream",
          "name": "stdout",
          "text": [
            "50 -->40 -->30 -->25 -->20 -->10 -->5 -->"
          ]
        }
      ]
    },
    {
      "cell_type": "code",
      "source": [
        "#binary tree\n",
        "#every tree will contain the root node,and followed by nodes, and the nodes can be left subtree and right subtree\n",
        "#if the value is less than the root node, the value will go to left child node\n",
        "#if the value is greater than the root node, automatically this value will go to right subnode\n",
        "#if the node does not have any children, that particular node will be called as leaf node\n",
        "#leaf node can be available at left side or right side"
      ],
      "metadata": {
        "id": "QwWe3YQLelse"
      },
      "execution_count": null,
      "outputs": []
    },
    {
      "cell_type": "code",
      "source": [
        "#Binary tree\n",
        "class Node:\n",
        "  def __init__(self,data):\n",
        "    self.left=None\n",
        "    self.right=None\n",
        "    self.data=data\n",
        "  def insert(self,data):\n",
        "    if(self.data):\n",
        "      if(data<self.data):\n",
        "        if self.left is None:\n",
        "          self.left=Node(data)\n",
        "        else:\n",
        "          self.left.insert(data)\n",
        "      elif(data>self.data):\n",
        "        if(self.right is None):\n",
        "          self.right = Node(data)\n",
        "        else:\n",
        "          self.right.insert(data)\n",
        "    else:\n",
        "      self.data=data\n",
        "def printPreorder(root):\n",
        "  if root:\n",
        "    print(root.data,end=\" \")\n",
        "    printPreorder(root.left)\n",
        "    printPreorder(root.right)\n",
        "def printPostorder(root):\n",
        "  if root:\n",
        "    printPostorder(root.left)\n",
        "    printPostorder(root.right)\n",
        "    print(root.data,end=\" \")\n",
        "def printInorder(root):\n",
        "  if root:\n",
        "    printInorder(root.left)\n",
        "    print(root.data,end=\" \")\n",
        "    printInorder(root.right)\n",
        "root=Node(27)\n",
        "root.insert(14)\n",
        "root.insert(35)\n",
        "root.insert(10)\n",
        "root.insert(19)\n",
        "root.insert(31)\n",
        "root.insert(42)\n",
        "printPreorder(root)\n",
        "print()\n",
        "printPostorder(root)\n",
        "print()\n",
        "printInorder(root)"
      ],
      "metadata": {
        "colab": {
          "base_uri": "https://localhost:8080/"
        },
        "id": "CB0CHbiy0vfN",
        "outputId": "7754434e-71fb-4177-ed62-934ba6056747"
      },
      "execution_count": null,
      "outputs": [
        {
          "output_type": "stream",
          "name": "stdout",
          "text": [
            "27 14 10 19 35 31 42 \n",
            "10 19 14 31 42 35 27 \n",
            "10 14 19 27 31 35 42 "
          ]
        }
      ]
    },
    {
      "cell_type": "code",
      "source": [
        "#write a prograsm to calculate the sum of left trees\n",
        "class Node:\n",
        "  def __init__(self,key):\n",
        "    self.key=key\n",
        "    self.left=None\n",
        "    self.right=None\n",
        "def leftLeavesSumRec(root,isLeft,summ):\n",
        "  if root is None:\n",
        "    return\n",
        "  if root.left is None and root.right is None and isLeft == True:\n",
        "    print(root.key)\n",
        "    sum[0]+=root.key\n",
        "  leftLeavesSumRec(root.left,1,summ)\n",
        "  leftLeavesSumRec(root.right,0,summ)\n",
        "def leftLeavesSum(root):\n",
        "  summ=[0]\n",
        "  leftLeavesSumRec(root,0,summ)\n",
        "  return summ[0]\n",
        "root=Node(20)\n",
        "root.left= Node(8)\n",
        "root.right=Node(22)\n",
        "root.left.left=Node(4)\n",
        "root.left.right=Node(12)\n",
        "root.left.right.left=Node(10)\n",
        "root.left.right.right=Node(14)\n",
        "print(\"Sum of left leaves is\", leftLeavesSum(root))"
      ],
      "metadata": {
        "colab": {
          "base_uri": "https://localhost:8080/",
          "height": 363
        },
        "id": "DJHz63sn9BcX",
        "outputId": "15eff942-2e27-4525-cf1b-0f2d4f8b8b99"
      },
      "execution_count": null,
      "outputs": [
        {
          "output_type": "stream",
          "name": "stdout",
          "text": [
            "4\n"
          ]
        },
        {
          "output_type": "error",
          "ename": "TypeError",
          "evalue": "ignored",
          "traceback": [
            "\u001b[0;31m---------------------------------------------------------------------------\u001b[0m",
            "\u001b[0;31mTypeError\u001b[0m                                 Traceback (most recent call last)",
            "\u001b[0;32m<ipython-input-36-6718e8da5945>\u001b[0m in \u001b[0;36m<cell line: 26>\u001b[0;34m()\u001b[0m\n\u001b[1;32m     24\u001b[0m \u001b[0mroot\u001b[0m\u001b[0;34m.\u001b[0m\u001b[0mleft\u001b[0m\u001b[0;34m.\u001b[0m\u001b[0mright\u001b[0m\u001b[0;34m.\u001b[0m\u001b[0mleft\u001b[0m\u001b[0;34m=\u001b[0m\u001b[0mNode\u001b[0m\u001b[0;34m(\u001b[0m\u001b[0;36m10\u001b[0m\u001b[0;34m)\u001b[0m\u001b[0;34m\u001b[0m\u001b[0;34m\u001b[0m\u001b[0m\n\u001b[1;32m     25\u001b[0m \u001b[0mroot\u001b[0m\u001b[0;34m.\u001b[0m\u001b[0mleft\u001b[0m\u001b[0;34m.\u001b[0m\u001b[0mright\u001b[0m\u001b[0;34m.\u001b[0m\u001b[0mright\u001b[0m\u001b[0;34m=\u001b[0m\u001b[0mNode\u001b[0m\u001b[0;34m(\u001b[0m\u001b[0;36m14\u001b[0m\u001b[0;34m)\u001b[0m\u001b[0;34m\u001b[0m\u001b[0;34m\u001b[0m\u001b[0m\n\u001b[0;32m---> 26\u001b[0;31m \u001b[0mprint\u001b[0m\u001b[0;34m(\u001b[0m\u001b[0;34m\"Sum of left leaves is\"\u001b[0m\u001b[0;34m,\u001b[0m \u001b[0mleftLeavesSum\u001b[0m\u001b[0;34m(\u001b[0m\u001b[0mroot\u001b[0m\u001b[0;34m)\u001b[0m\u001b[0;34m)\u001b[0m\u001b[0;34m\u001b[0m\u001b[0;34m\u001b[0m\u001b[0m\n\u001b[0m",
            "\u001b[0;32m<ipython-input-36-6718e8da5945>\u001b[0m in \u001b[0;36mleftLeavesSum\u001b[0;34m(root)\u001b[0m\n\u001b[1;32m     15\u001b[0m \u001b[0;32mdef\u001b[0m \u001b[0mleftLeavesSum\u001b[0m\u001b[0;34m(\u001b[0m\u001b[0mroot\u001b[0m\u001b[0;34m)\u001b[0m\u001b[0;34m:\u001b[0m\u001b[0;34m\u001b[0m\u001b[0;34m\u001b[0m\u001b[0m\n\u001b[1;32m     16\u001b[0m   \u001b[0msumm\u001b[0m\u001b[0;34m=\u001b[0m\u001b[0;34m[\u001b[0m\u001b[0;36m0\u001b[0m\u001b[0;34m]\u001b[0m\u001b[0;34m\u001b[0m\u001b[0;34m\u001b[0m\u001b[0m\n\u001b[0;32m---> 17\u001b[0;31m   \u001b[0mleftLeavesSumRec\u001b[0m\u001b[0;34m(\u001b[0m\u001b[0mroot\u001b[0m\u001b[0;34m,\u001b[0m\u001b[0;36m0\u001b[0m\u001b[0;34m,\u001b[0m\u001b[0msumm\u001b[0m\u001b[0;34m)\u001b[0m\u001b[0;34m\u001b[0m\u001b[0;34m\u001b[0m\u001b[0m\n\u001b[0m\u001b[1;32m     18\u001b[0m   \u001b[0;32mreturn\u001b[0m \u001b[0msumm\u001b[0m\u001b[0;34m[\u001b[0m\u001b[0;36m0\u001b[0m\u001b[0;34m]\u001b[0m\u001b[0;34m\u001b[0m\u001b[0;34m\u001b[0m\u001b[0m\n\u001b[1;32m     19\u001b[0m \u001b[0mroot\u001b[0m\u001b[0;34m=\u001b[0m\u001b[0mNode\u001b[0m\u001b[0;34m(\u001b[0m\u001b[0;36m20\u001b[0m\u001b[0;34m)\u001b[0m\u001b[0;34m\u001b[0m\u001b[0;34m\u001b[0m\u001b[0m\n",
            "\u001b[0;32m<ipython-input-36-6718e8da5945>\u001b[0m in \u001b[0;36mleftLeavesSumRec\u001b[0;34m(root, isLeft, summ)\u001b[0m\n\u001b[1;32m     11\u001b[0m     \u001b[0mprint\u001b[0m\u001b[0;34m(\u001b[0m\u001b[0mroot\u001b[0m\u001b[0;34m.\u001b[0m\u001b[0mkey\u001b[0m\u001b[0;34m)\u001b[0m\u001b[0;34m\u001b[0m\u001b[0;34m\u001b[0m\u001b[0m\n\u001b[1;32m     12\u001b[0m     \u001b[0msum\u001b[0m\u001b[0;34m[\u001b[0m\u001b[0;36m0\u001b[0m\u001b[0;34m]\u001b[0m\u001b[0;34m+=\u001b[0m\u001b[0mroot\u001b[0m\u001b[0;34m.\u001b[0m\u001b[0mkey\u001b[0m\u001b[0;34m\u001b[0m\u001b[0;34m\u001b[0m\u001b[0m\n\u001b[0;32m---> 13\u001b[0;31m   \u001b[0mleftLeavesSumRec\u001b[0m\u001b[0;34m(\u001b[0m\u001b[0mroot\u001b[0m\u001b[0;34m.\u001b[0m\u001b[0mleft\u001b[0m\u001b[0;34m,\u001b[0m\u001b[0;36m1\u001b[0m\u001b[0;34m,\u001b[0m\u001b[0msumm\u001b[0m\u001b[0;34m)\u001b[0m\u001b[0;34m\u001b[0m\u001b[0;34m\u001b[0m\u001b[0m\n\u001b[0m\u001b[1;32m     14\u001b[0m   \u001b[0mleftLeavesSumRec\u001b[0m\u001b[0;34m(\u001b[0m\u001b[0mroot\u001b[0m\u001b[0;34m.\u001b[0m\u001b[0mright\u001b[0m\u001b[0;34m,\u001b[0m\u001b[0;36m0\u001b[0m\u001b[0;34m,\u001b[0m\u001b[0msumm\u001b[0m\u001b[0;34m)\u001b[0m\u001b[0;34m\u001b[0m\u001b[0;34m\u001b[0m\u001b[0m\n\u001b[1;32m     15\u001b[0m \u001b[0;32mdef\u001b[0m \u001b[0mleftLeavesSum\u001b[0m\u001b[0;34m(\u001b[0m\u001b[0mroot\u001b[0m\u001b[0;34m)\u001b[0m\u001b[0;34m:\u001b[0m\u001b[0;34m\u001b[0m\u001b[0;34m\u001b[0m\u001b[0m\n",
            "\u001b[0;32m<ipython-input-36-6718e8da5945>\u001b[0m in \u001b[0;36mleftLeavesSumRec\u001b[0;34m(root, isLeft, summ)\u001b[0m\n\u001b[1;32m     11\u001b[0m     \u001b[0mprint\u001b[0m\u001b[0;34m(\u001b[0m\u001b[0mroot\u001b[0m\u001b[0;34m.\u001b[0m\u001b[0mkey\u001b[0m\u001b[0;34m)\u001b[0m\u001b[0;34m\u001b[0m\u001b[0;34m\u001b[0m\u001b[0m\n\u001b[1;32m     12\u001b[0m     \u001b[0msum\u001b[0m\u001b[0;34m[\u001b[0m\u001b[0;36m0\u001b[0m\u001b[0;34m]\u001b[0m\u001b[0;34m+=\u001b[0m\u001b[0mroot\u001b[0m\u001b[0;34m.\u001b[0m\u001b[0mkey\u001b[0m\u001b[0;34m\u001b[0m\u001b[0;34m\u001b[0m\u001b[0m\n\u001b[0;32m---> 13\u001b[0;31m   \u001b[0mleftLeavesSumRec\u001b[0m\u001b[0;34m(\u001b[0m\u001b[0mroot\u001b[0m\u001b[0;34m.\u001b[0m\u001b[0mleft\u001b[0m\u001b[0;34m,\u001b[0m\u001b[0;36m1\u001b[0m\u001b[0;34m,\u001b[0m\u001b[0msumm\u001b[0m\u001b[0;34m)\u001b[0m\u001b[0;34m\u001b[0m\u001b[0;34m\u001b[0m\u001b[0m\n\u001b[0m\u001b[1;32m     14\u001b[0m   \u001b[0mleftLeavesSumRec\u001b[0m\u001b[0;34m(\u001b[0m\u001b[0mroot\u001b[0m\u001b[0;34m.\u001b[0m\u001b[0mright\u001b[0m\u001b[0;34m,\u001b[0m\u001b[0;36m0\u001b[0m\u001b[0;34m,\u001b[0m\u001b[0msumm\u001b[0m\u001b[0;34m)\u001b[0m\u001b[0;34m\u001b[0m\u001b[0;34m\u001b[0m\u001b[0m\n\u001b[1;32m     15\u001b[0m \u001b[0;32mdef\u001b[0m \u001b[0mleftLeavesSum\u001b[0m\u001b[0;34m(\u001b[0m\u001b[0mroot\u001b[0m\u001b[0;34m)\u001b[0m\u001b[0;34m:\u001b[0m\u001b[0;34m\u001b[0m\u001b[0;34m\u001b[0m\u001b[0m\n",
            "\u001b[0;32m<ipython-input-36-6718e8da5945>\u001b[0m in \u001b[0;36mleftLeavesSumRec\u001b[0;34m(root, isLeft, summ)\u001b[0m\n\u001b[1;32m     10\u001b[0m   \u001b[0;32mif\u001b[0m \u001b[0mroot\u001b[0m\u001b[0;34m.\u001b[0m\u001b[0mleft\u001b[0m \u001b[0;32mis\u001b[0m \u001b[0;32mNone\u001b[0m \u001b[0;32mand\u001b[0m \u001b[0mroot\u001b[0m\u001b[0;34m.\u001b[0m\u001b[0mright\u001b[0m \u001b[0;32mis\u001b[0m \u001b[0;32mNone\u001b[0m \u001b[0;32mand\u001b[0m \u001b[0misLeft\u001b[0m \u001b[0;34m==\u001b[0m \u001b[0;32mTrue\u001b[0m\u001b[0;34m:\u001b[0m\u001b[0;34m\u001b[0m\u001b[0;34m\u001b[0m\u001b[0m\n\u001b[1;32m     11\u001b[0m     \u001b[0mprint\u001b[0m\u001b[0;34m(\u001b[0m\u001b[0mroot\u001b[0m\u001b[0;34m.\u001b[0m\u001b[0mkey\u001b[0m\u001b[0;34m)\u001b[0m\u001b[0;34m\u001b[0m\u001b[0;34m\u001b[0m\u001b[0m\n\u001b[0;32m---> 12\u001b[0;31m     \u001b[0msum\u001b[0m\u001b[0;34m[\u001b[0m\u001b[0;36m0\u001b[0m\u001b[0;34m]\u001b[0m\u001b[0;34m+=\u001b[0m\u001b[0mroot\u001b[0m\u001b[0;34m.\u001b[0m\u001b[0mkey\u001b[0m\u001b[0;34m\u001b[0m\u001b[0;34m\u001b[0m\u001b[0m\n\u001b[0m\u001b[1;32m     13\u001b[0m   \u001b[0mleftLeavesSumRec\u001b[0m\u001b[0;34m(\u001b[0m\u001b[0mroot\u001b[0m\u001b[0;34m.\u001b[0m\u001b[0mleft\u001b[0m\u001b[0;34m,\u001b[0m\u001b[0;36m1\u001b[0m\u001b[0;34m,\u001b[0m\u001b[0msumm\u001b[0m\u001b[0;34m)\u001b[0m\u001b[0;34m\u001b[0m\u001b[0;34m\u001b[0m\u001b[0m\n\u001b[1;32m     14\u001b[0m   \u001b[0mleftLeavesSumRec\u001b[0m\u001b[0;34m(\u001b[0m\u001b[0mroot\u001b[0m\u001b[0;34m.\u001b[0m\u001b[0mright\u001b[0m\u001b[0;34m,\u001b[0m\u001b[0;36m0\u001b[0m\u001b[0;34m,\u001b[0m\u001b[0msumm\u001b[0m\u001b[0;34m)\u001b[0m\u001b[0;34m\u001b[0m\u001b[0;34m\u001b[0m\u001b[0m\n",
            "\u001b[0;31mTypeError\u001b[0m: 'builtin_function_or_method' object is not subscriptable"
          ]
        }
      ]
    },
    {
      "cell_type": "code",
      "source": [],
      "metadata": {
        "id": "fa_3cs7YDbTc"
      },
      "execution_count": null,
      "outputs": []
    }
  ]
}